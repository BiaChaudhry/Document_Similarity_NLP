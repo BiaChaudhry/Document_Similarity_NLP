{
  "nbformat": 4,
  "nbformat_minor": 0,
  "metadata": {
    "colab": {
      "name": "NLP_Project_Bia_Chaudhry_184055_SimilarityBetweenDocuments",
      "provenance": [],
      "collapsed_sections": []
    },
    "kernelspec": {
      "name": "python3",
      "display_name": "Python 3"
    }
  },
  "cells": [
    {
      "cell_type": "markdown",
      "metadata": {
        "id": "vi6US3ifiFrr",
        "colab_type": "text"
      },
      "source": [
        "\n",
        "      \n",
        "      Bia Chaudhry\n",
        "\n",
        "      BESE -7B\n",
        "\n",
        "      184055\n",
        "\n",
        "      Natural Language Processing Project \n",
        "\n",
        "      Submitted to\n",
        "\n",
        "      Ma'am Seemab Latif\n",
        "\n",
        "---"
      ]
    },
    {
      "cell_type": "markdown",
      "metadata": {
        "id": "F652Dv_4g-d7",
        "colab_type": "text"
      },
      "source": [
        "#COMPARISON BETWEEN COSINE SIMILARITY & SOFT COSINE SIMILARITY "
      ]
    },
    {
      "cell_type": "markdown",
      "metadata": {
        "id": "U8e4LVEq8ysm",
        "colab_type": "text"
      },
      "source": [
        "# Installing packages and Importing Libraries"
      ]
    },
    {
      "cell_type": "code",
      "metadata": {
        "id": "P_02svW-oxC5",
        "colab_type": "code",
        "outputId": "7eaa48b6-f229-465f-8a1d-2ca44e4f7ee9",
        "colab": {
          "base_uri": "https://localhost:8080/",
          "height": 34
        }
      },
      "source": [
        "!pip install beautifulsoup4"
      ],
      "execution_count": 1,
      "outputs": [
        {
          "output_type": "stream",
          "text": [
            "Requirement already satisfied: beautifulsoup4 in /usr/local/lib/python3.6/dist-packages (4.6.3)\n"
          ],
          "name": "stdout"
        }
      ]
    },
    {
      "cell_type": "code",
      "metadata": {
        "id": "Lc_KTcV6o0ne",
        "colab_type": "code",
        "outputId": "c3f74de5-e1b8-4a1e-d673-73c09e8755a7",
        "colab": {
          "base_uri": "https://localhost:8080/",
          "height": 34
        }
      },
      "source": [
        "!pip install lxml"
      ],
      "execution_count": 2,
      "outputs": [
        {
          "output_type": "stream",
          "text": [
            "Requirement already satisfied: lxml in /usr/local/lib/python3.6/dist-packages (4.2.6)\n"
          ],
          "name": "stdout"
        }
      ]
    },
    {
      "cell_type": "code",
      "metadata": {
        "id": "Fhwnv8Pg6r0M",
        "colab_type": "code",
        "outputId": "58a22d46-c82b-44de-b5c8-39afc816d366",
        "colab": {
          "base_uri": "https://localhost:8080/",
          "height": 85
        }
      },
      "source": [
        "import bs4 as bs\n",
        "import urllib.request\n",
        "import re\n",
        "import nltk, string, numpy as np\n",
        "nltk.download('wordnet') # first-time use only\n",
        "nltk.download('punkt')\n",
        "from sklearn.feature_extraction.text import CountVectorizer\n",
        "from sklearn.feature_extraction.text import TfidfTransformer\n",
        "import math\n",
        "import pandas as pd\n",
        "import networkx as nx\n",
        "from networkx.generators.small import krackhardt_kite_graph\n",
        "from string import ascii_lowercase"
      ],
      "execution_count": 3,
      "outputs": [
        {
          "output_type": "stream",
          "text": [
            "[nltk_data] Downloading package wordnet to /root/nltk_data...\n",
            "[nltk_data]   Unzipping corpora/wordnet.zip.\n",
            "[nltk_data] Downloading package punkt to /root/nltk_data...\n",
            "[nltk_data]   Unzipping tokenizers/punkt.zip.\n"
          ],
          "name": "stdout"
        }
      ]
    },
    {
      "cell_type": "markdown",
      "metadata": {
        "id": "cZ5zF4_X9BkG",
        "colab_type": "text"
      },
      "source": [
        "# Extract Abstract from a webpage "
      ]
    },
    {
      "cell_type": "code",
      "metadata": {
        "id": "OWbBMhpbo5OQ",
        "colab_type": "code",
        "colab": {}
      },
      "source": [
        "def abstractExtracter(url_to_go):\n",
        "  scraped_data = urllib.request.urlopen(url_to_go)\n",
        "  article = scraped_data.read()\n",
        "\n",
        "  parsed_article = bs.BeautifulSoup(article,'lxml')\n",
        "\n",
        "  paragraphs = parsed_article.find_all(id='p-2')\n",
        "\n",
        "  article_text = \"\"\n",
        "\n",
        "  for p in paragraphs:\n",
        "      article_text += p.text\n",
        "  return article_text\n",
        "\n",
        "# COVID-19 related\n",
        "abstract1 = abstractExtracter('https://www.medrxiv.org/content/10.1101/2020.02.24.20027052v1')\n",
        "abstract2 = abstractExtracter('https://www.medrxiv.org/content/10.1101/2020.03.07.20031575v1')\n",
        "abstract3 = abstractExtracter('https://www.medrxiv.org/content/10.1101/2020.03.19.20034124v1')\n",
        "\n",
        "# Movie Characters\n",
        "abstract4 = \"Harry Potter is a series of fantasy novels written by British author J. K. Rowling. The novels chronicle the lives of a young wizard, Harry Potter, and his friends Hermione Granger and Ron Weasley, all of whom are students at Hogwarts School of Witchcraft and Wizardry. The main story arc concerns Harry's struggle against Lord Voldemort, a dark wizard who intends to become immortal, overthrow the wizard governing body known as the Ministry of Magic and subjugate all wizards and Muggles (non-magical people).\"\n",
        "abstract5 = \"Cruise began acting in the early 1980s and made his breakthrough with leading roles in the comedy film Risky Business (1983) and action drama film Top Gun (1986). Critical acclaim came with his roles in the drama films The Color of Money (1986), Rain Man (1988), and Born on the Fourth of July (1989). For his portrayal of Ron Kovic in the latter, he won a Golden Globe Award and received a nomination for the Academy Award for Best Actor. As a leading Hollywood star in the 1990s, he starred in several commercially successful films, including the drama A Few Good Men (1992), the thriller The Firm (1993), the horror film Interview with the Vampire (1994), and the romance Jerry Maguire (1996). For his role in the latter, he won a Golden Globe Award for Best Actor and received his second Academy Award nomination.\"\n",
        "abstract6 = \"Spider-Man is a fictional superhero created by writer-editor Stan Lee and writer-artist Steve Ditko. He first appeared in the anthology comic book Amazing Fantasy #15 (August 1962) in the Silver Age of Comic Books. He appears in American comic books published by Marvel Comics, as well as in a number of movies, television shows, and video game adaptations set in the Marvel Universe. In the stories, Spider-Man is the alias of Peter Parker, an orphan raised by his Aunt May and Uncle Ben in New York City after his parents Richard and Mary Parker were killed in a plane crash. Lee and Ditko had the character deal with the struggles of adolescence and financial issues, and accompanied him with many supporting characters, such as J. Jonah Jameson, Harry Osborn, Max Modell, romantic interests Gwen Stacy and Mary Jane Watson, and foes such as Doctor Octopus, the Green Goblin and Venom. His origin story has him acquiring spider-related abilities after a bite from a radioactive spider; these include clinging to surfaces, shooting spider-webs from wrist-mounted devices, and detecting danger with his spider-sense.\"\n",
        "\n",
        "# Sports related \n",
        "abstract7 = \"Cricket is a bat-and-ball game played between two teams of eleven players on a field at the centre of which is a 20-metre (22-yard) pitch with a wicket at each end, each comprising two bails balanced on three stumps. The batting side scores runs by striking the ball bowled at the wicket with the bat, while the bowling and fielding side tries to prevent this and dismiss each player (so they are out). Means of dismissal include being bowled, when the ball hits the stumps and dislodges the bails, and by the fielding side catching the ball after it is hit by the bat, but before it hits the ground. When ten players have been dismissed, the innings ends and the teams swap roles. The game is adjudicated by two umpires, aided by a third umpire and match referee in international matches. They communicate with two off-field scorers who record the match's statistical information.\"\n",
        "abstract8 = \"Roller hockey, also known as quad hockey, international-style ball hockey, rink hockey and Hoquei em Patins, is an overarching name for a roller sport that has existed since long before inline skates were invented. This sport is played in over sixty countries and has a worldwide following. Roller hockey was a demonstration sport at the 1992 Barcelona Summer Olympics.\"\n",
        "\n",
        "\n"
      ],
      "execution_count": 0,
      "outputs": []
    },
    {
      "cell_type": "code",
      "metadata": {
        "id": "FEPjgnvFp9UN",
        "colab_type": "code",
        "outputId": "62c82986-ca82-4bc3-8645-766b0fa2e811",
        "colab": {
          "base_uri": "https://localhost:8080/",
          "height": 700
        }
      },
      "source": [
        "print('ABSTRACT # 1: ', abstract1)\n",
        "\n",
        "print('\\n-----------\\n')\n",
        "\n",
        "print('ABSTRACT # 2: ',abstract2)\n",
        "\n",
        "print('\\n-----------\\n')\n",
        "\n",
        "print('ABSTRACT # 3: ',abstract3)\n",
        "\n",
        "print('\\n-----------\\n')\n",
        "\n",
        "print('ABSTRACT # 4: ', abstract4)\n",
        "\n",
        "print('\\n-----------\\n')\n",
        "\n",
        "print('ABSTRACT # 5: ', abstract5)\n",
        "\n",
        "print('\\n-----------\\n')\n",
        "\n",
        "print('ABSTRACT # 6: ', abstract6)\n",
        "\n",
        "print('\\n-----------\\n')\n",
        "\n",
        "print('ABSTRACT # 7: ', abstract7)\n",
        "\n",
        "print('\\n-----------\\n')\n",
        "\n",
        "print('ABSTRACT # 8: ', abstract8)"
      ],
      "execution_count": 5,
      "outputs": [
        {
          "output_type": "stream",
          "text": [
            "ABSTRACT # 1:  Objective: To investigate the correlation between clinical characteristics and cardiac injury of COVID-2019 pneumonia. \n",
            "Methods: In this retrospective, single-center study, 41 consecutive corona virus disease 2019 (COVID-2019) patients (including 2 deaths) of COVID-2019 in Beijing Youan Hospital, China Jan 21 to Feb 03, 2020, were involved in this study. The high risk factors of cardiac injury in different COVID-2019 patients were analyzed. Computed tomographic (CT) imaging of epicardial adipose tissue (EAT) has been used to demonstrate the cardiac inflammation of COVID-2019.\n",
            "Results：Of the 41 COVID-2019 patients, 2 (4.88%), 32 (78.05%), 4 (9.75%) and 3 (7.32%) patients were clinically diagnosed as light, mild, severe and critical cases, according to the 6th guidance issued by the National Health Commission of China. 10 (24.4%) patients had underlying complications, such as hypertension, CAD, type 2 diabetes mellites and tumor. The peak value of TnI in critical patients is 40-fold more than normal value. 2 patients in the critical group had the onset of atrial fibrillation, and the peak heart rates reached up to 160 bpm. CT scan showed low EAT density in severe and critical patients. \n",
            "Conclusion: Our results indicated that cardiac injury of COVID-2019 was rare in light and mild patients, while common in severe and critical patients. Therefore, the monitoring of the heart functions of COVID-2019 patients and applying potential interventions for those with abnormal cardiac injury related characteristics, is vital to prevent the fatality.\n",
            "\n",
            "-----------\n",
            "\n",
            "ABSTRACT # 2:  The outbreak of coronavirus disease 2019 (COVID-19) caused by severe acute respiratory syndrome coronavirus 2 (SARS-CoV-2) in China has been declared a public health emergency of international concern. The cardiac injury was dominate in the process. However, whether N terminal pro B type natriuretic peptide (NT-proBNP) predicted outcome of COVID-19 patients was unknown. The study initially enrolled 102 patients with severe COVID-19 pneumonia from a continuous sample. After screening out the ineligible cases, 54 patients were analyzed in this study. Results found that patients with higher NT-proBNP (above 88.64 pg/mL) level had more risks of in-hospital death. After adjusting for potential cofounders in separate modes, NT-proBNP presented as an independent risk factor of in-hospital death in patients with severe COVID-19.\n",
            "\n",
            "-----------\n",
            "\n",
            "ABSTRACT # 3:  Background\n",
            "Notwithstanding the clinical hallmarks of COVID-19 patients were reported, several critical issues still remain mysterious, i.e., prognostic factors for COVID-19 including extrinsic factors as viral load of SARS-CoV-2 and intrinsic factors as individual's health conditions; myocarditis incidence rate and hallmarks.\n",
            "Methods\n",
            "Demographic, epidemiologic, radiologic and laboratory data were collected by medical record reviews of adult hospitalized patients diagnosed as COVID-19. Cycle threshold (Ct) value data of real-time PCR (RT-PCR) were collected. The time duration was from 21 January to 2 March, 2020. Pulmonary inflammation index (PII) values were used for chest CT findings. Multivariate logistic regression analysis was used to identify independent severity risk factors. \n",
            "RESULTS\n",
            "In total, 84 hospitalized adult patients diagnosed as COVID-19 were included, including 20 severe and 64 nonsevere cases. The viral load of the severe group was significantly higher than that of the non-severe group, regardless of the Ct values for N or ORF1ab gene of virus (all p<0.05).Typical CT abnormalities was more likely existing in the severe group than in the nonsevere group in patchy shadows or ground glass opacities, consolidation, and interlobular septal thickening (all p<0.05). In addition, the PII values in the severe group was significantly higher than that in the nonsevere group (52.5 [42.5-62.5] vs 20 [5.0-31.6]; p<0.001).  Amongst 84 patients, 13 patients (15.48%) were noted with abnormal electrocardiograms (ECGs) and serum myocardial enzyme levels; whereas 4 (4.8%) were clinically diagnosed as SARS-CoV-2 myocarditis. Multivariable logistic regress analysis distinguished three key independent risk factors for the severity of COVID-19, including age [OR 2.350; 95% CI (1.206 to 4.580); p=0.012], Ct value [OR 0.158; 95% CI (0.025 to 0.987); p=0.048] and PII [OR 1.912; 95% CI (1.187 to 3.079); p=0.008].\n",
            "Interpretation\n",
            "Three key-independent risk factors of COVID-19 were identified, including age, PII, and Ct value. The Ct value is closely correlated with the severity of COVID-19, and may act as a predictor of clinical severity of COVID-19 in the early stage. SARS-CoV-2 myocarditis should be highlighted despite a relatively low incidence rate (4.8%). The oxygen pressure and blood oxygen saturation should not be neglected as closely linked with the altitude of epidemic regions.\n",
            "\n",
            "-----------\n",
            "\n",
            "ABSTRACT # 4:  Harry Potter is a series of fantasy novels written by British author J. K. Rowling. The novels chronicle the lives of a young wizard, Harry Potter, and his friends Hermione Granger and Ron Weasley, all of whom are students at Hogwarts School of Witchcraft and Wizardry. The main story arc concerns Harry's struggle against Lord Voldemort, a dark wizard who intends to become immortal, overthrow the wizard governing body known as the Ministry of Magic and subjugate all wizards and Muggles (non-magical people).\n",
            "\n",
            "-----------\n",
            "\n",
            "ABSTRACT # 5:  Cruise began acting in the early 1980s and made his breakthrough with leading roles in the comedy film Risky Business (1983) and action drama film Top Gun (1986). Critical acclaim came with his roles in the drama films The Color of Money (1986), Rain Man (1988), and Born on the Fourth of July (1989). For his portrayal of Ron Kovic in the latter, he won a Golden Globe Award and received a nomination for the Academy Award for Best Actor. As a leading Hollywood star in the 1990s, he starred in several commercially successful films, including the drama A Few Good Men (1992), the thriller The Firm (1993), the horror film Interview with the Vampire (1994), and the romance Jerry Maguire (1996). For his role in the latter, he won a Golden Globe Award for Best Actor and received his second Academy Award nomination.\n",
            "\n",
            "-----------\n",
            "\n",
            "ABSTRACT # 6:  Spider-Man is a fictional superhero created by writer-editor Stan Lee and writer-artist Steve Ditko. He first appeared in the anthology comic book Amazing Fantasy #15 (August 1962) in the Silver Age of Comic Books. He appears in American comic books published by Marvel Comics, as well as in a number of movies, television shows, and video game adaptations set in the Marvel Universe. In the stories, Spider-Man is the alias of Peter Parker, an orphan raised by his Aunt May and Uncle Ben in New York City after his parents Richard and Mary Parker were killed in a plane crash. Lee and Ditko had the character deal with the struggles of adolescence and financial issues, and accompanied him with many supporting characters, such as J. Jonah Jameson, Harry Osborn, Max Modell, romantic interests Gwen Stacy and Mary Jane Watson, and foes such as Doctor Octopus, the Green Goblin and Venom. His origin story has him acquiring spider-related abilities after a bite from a radioactive spider; these include clinging to surfaces, shooting spider-webs from wrist-mounted devices, and detecting danger with his spider-sense.\n",
            "\n",
            "-----------\n",
            "\n",
            "ABSTRACT # 7:  Cricket is a bat-and-ball game played between two teams of eleven players on a field at the centre of which is a 20-metre (22-yard) pitch with a wicket at each end, each comprising two bails balanced on three stumps. The batting side scores runs by striking the ball bowled at the wicket with the bat, while the bowling and fielding side tries to prevent this and dismiss each player (so they are out). Means of dismissal include being bowled, when the ball hits the stumps and dislodges the bails, and by the fielding side catching the ball after it is hit by the bat, but before it hits the ground. When ten players have been dismissed, the innings ends and the teams swap roles. The game is adjudicated by two umpires, aided by a third umpire and match referee in international matches. They communicate with two off-field scorers who record the match's statistical information.\n",
            "\n",
            "-----------\n",
            "\n",
            "ABSTRACT # 8:  Roller hockey, also known as quad hockey, international-style ball hockey, rink hockey and Hoquei em Patins, is an overarching name for a roller sport that has existed since long before inline skates were invented. This sport is played in over sixty countries and has a worldwide following. Roller hockey was a demonstration sport at the 1992 Barcelona Summer Olympics.\n"
          ],
          "name": "stdout"
        }
      ]
    },
    {
      "cell_type": "markdown",
      "metadata": {
        "id": "tuS4qAfn9K0g",
        "colab_type": "text"
      },
      "source": [
        "# Creating Documents"
      ]
    },
    {
      "cell_type": "code",
      "metadata": {
        "id": "J9dmVDlbqVii",
        "colab_type": "code",
        "colab": {}
      },
      "source": [
        "def fileWriter(filename, content):\n",
        "  abs_file = open(filename, mode='w+')\n",
        "  abs_file.write(content)\n",
        "\n",
        "fileWriter('doc3.txt', abstract3)"
      ],
      "execution_count": 0,
      "outputs": []
    },
    {
      "cell_type": "code",
      "metadata": {
        "id": "g4gPfx5ebzuc",
        "colab_type": "code",
        "colab": {}
      },
      "source": [
        "d1 = abstract1\n",
        "d2 = abstract2\n",
        "d3 = abstract3\n",
        "d4 = abstract4\n",
        "d5 = abstract5\n",
        "d6 = abstract6\n",
        "d7 = abstract7\n",
        "d8 = abstract8\n",
        "\n",
        "\n",
        "documents = [d1, d2, d3, d4, d5, d6, d7, d8]"
      ],
      "execution_count": 0,
      "outputs": []
    },
    {
      "cell_type": "markdown",
      "metadata": {
        "id": "K7LwtBAG9ZNR",
        "colab_type": "text"
      },
      "source": [
        "# Data Preprocessing"
      ]
    },
    {
      "cell_type": "code",
      "metadata": {
        "id": "xs3ugcFNb8xX",
        "colab_type": "code",
        "colab": {}
      },
      "source": [
        "lemmer = nltk.stem.WordNetLemmatizer()\n",
        "def LemTokens(tokens):\n",
        "    return [lemmer.lemmatize(token) for token in tokens]\n",
        "remove_punct_dict = dict((ord(punct), None) for punct in string.punctuation)\n",
        "def LemNormalize(text):\n",
        "    return LemTokens(nltk.word_tokenize(text.lower().translate(remove_punct_dict)))"
      ],
      "execution_count": 0,
      "outputs": []
    },
    {
      "cell_type": "code",
      "metadata": {
        "id": "gNAXftYucCut",
        "colab_type": "code",
        "outputId": "9c2ece10-ad06-48b4-98c9-03e1d69e4de5",
        "colab": {
          "base_uri": "https://localhost:8080/",
          "height": 105
        }
      },
      "source": [
        "LemVectorizer = CountVectorizer(tokenizer=LemNormalize, stop_words='english')\n",
        "LemVectorizer.fit_transform(documents)"
      ],
      "execution_count": 9,
      "outputs": [
        {
          "output_type": "stream",
          "text": [
            "/usr/local/lib/python3.6/dist-packages/sklearn/feature_extraction/text.py:385: UserWarning: Your stop_words may be inconsistent with your preprocessing. Tokenizing the stop words generated tokens ['ha', 'le', 'u', 'wa'] not in stop_words.\n",
            "  'stop_words.' % sorted(inconsistent))\n"
          ],
          "name": "stderr"
        },
        {
          "output_type": "execute_result",
          "data": {
            "text/plain": [
              "<8x544 sparse matrix of type '<class 'numpy.int64'>'\n",
              "\twith 624 stored elements in Compressed Sparse Row format>"
            ]
          },
          "metadata": {
            "tags": []
          },
          "execution_count": 9
        }
      ]
    },
    {
      "cell_type": "code",
      "metadata": {
        "id": "vRlbihfrcGB6",
        "colab_type": "code",
        "outputId": "189fba43-82a3-4c09-8d5a-fa593622a9ee",
        "colab": {
          "base_uri": "https://localhost:8080/",
          "height": 9265
        }
      },
      "source": [
        "LemVectorizer.vocabulary_"
      ],
      "execution_count": 10,
      "outputs": [
        {
          "output_type": "execute_result",
          "data": {
            "text/plain": [
              "{'0025': 0,\n",
              " '0158': 1,\n",
              " '03': 2,\n",
              " '0987': 3,\n",
              " '10': 4,\n",
              " '102': 5,\n",
              " '1187': 6,\n",
              " '1206': 7,\n",
              " '13': 8,\n",
              " '15': 9,\n",
              " '1548': 10,\n",
              " '160': 11,\n",
              " '1912': 12,\n",
              " '1962': 13,\n",
              " '1980s': 14,\n",
              " '1983': 15,\n",
              " '1986': 16,\n",
              " '1988': 17,\n",
              " '1989': 18,\n",
              " '1990s': 19,\n",
              " '1992': 20,\n",
              " '1993': 21,\n",
              " '1994': 22,\n",
              " '1996': 23,\n",
              " '2': 24,\n",
              " '20': 25,\n",
              " '2019': 26,\n",
              " '2020': 27,\n",
              " '20metre': 28,\n",
              " '21': 29,\n",
              " '22yard': 30,\n",
              " '2350': 31,\n",
              " '244': 32,\n",
              " '3': 33,\n",
              " '3079': 34,\n",
              " '32': 35,\n",
              " '4': 36,\n",
              " '40fold': 37,\n",
              " '41': 38,\n",
              " '425625': 39,\n",
              " '4580': 40,\n",
              " '48': 41,\n",
              " '488': 42,\n",
              " '50316': 43,\n",
              " '525': 44,\n",
              " '54': 45,\n",
              " '64': 46,\n",
              " '6th': 47,\n",
              " '732': 48,\n",
              " '7805': 49,\n",
              " '84': 50,\n",
              " '8864': 51,\n",
              " '95': 52,\n",
              " '975': 53,\n",
              " 'ability': 54,\n",
              " 'abnormal': 55,\n",
              " 'abnormality': 56,\n",
              " 'academy': 57,\n",
              " 'acclaim': 58,\n",
              " 'accompanied': 59,\n",
              " 'according': 60,\n",
              " 'acquiring': 61,\n",
              " 'act': 62,\n",
              " 'acting': 63,\n",
              " 'action': 64,\n",
              " 'actor': 65,\n",
              " 'acute': 66,\n",
              " 'adaptation': 67,\n",
              " 'addition': 68,\n",
              " 'adipose': 69,\n",
              " 'adjudicated': 70,\n",
              " 'adjusting': 71,\n",
              " 'adolescence': 72,\n",
              " 'adult': 73,\n",
              " 'age': 74,\n",
              " 'aided': 75,\n",
              " 'alias': 76,\n",
              " 'altitude': 77,\n",
              " 'amazing': 78,\n",
              " 'american': 79,\n",
              " 'analysis': 80,\n",
              " 'analyzed': 81,\n",
              " 'anthology': 82,\n",
              " 'appeared': 83,\n",
              " 'appears': 84,\n",
              " 'applying': 85,\n",
              " 'arc': 86,\n",
              " 'atrial': 87,\n",
              " 'august': 88,\n",
              " 'aunt': 89,\n",
              " 'author': 90,\n",
              " 'award': 91,\n",
              " 'b': 92,\n",
              " 'background': 93,\n",
              " 'bail': 94,\n",
              " 'balanced': 95,\n",
              " 'ball': 96,\n",
              " 'barcelona': 97,\n",
              " 'bat': 98,\n",
              " 'batandball': 99,\n",
              " 'batting': 100,\n",
              " 'began': 101,\n",
              " 'beijing': 102,\n",
              " 'ben': 103,\n",
              " 'best': 104,\n",
              " 'bite': 105,\n",
              " 'blood': 106,\n",
              " 'body': 107,\n",
              " 'book': 108,\n",
              " 'born': 109,\n",
              " 'bowled': 110,\n",
              " 'bowling': 111,\n",
              " 'bpm': 112,\n",
              " 'breakthrough': 113,\n",
              " 'british': 114,\n",
              " 'business': 115,\n",
              " 'cad': 116,\n",
              " 'came': 117,\n",
              " 'cardiac': 118,\n",
              " 'case': 119,\n",
              " 'catching': 120,\n",
              " 'caused': 121,\n",
              " 'centre': 122,\n",
              " 'character': 123,\n",
              " 'characteristic': 124,\n",
              " 'chest': 125,\n",
              " 'china': 126,\n",
              " 'chronicle': 127,\n",
              " 'ci': 128,\n",
              " 'city': 129,\n",
              " 'clinging': 130,\n",
              " 'clinical': 131,\n",
              " 'clinically': 132,\n",
              " 'closely': 133,\n",
              " 'cofounder': 134,\n",
              " 'collected': 135,\n",
              " 'color': 136,\n",
              " 'comedy': 137,\n",
              " 'comic': 138,\n",
              " 'commercially': 139,\n",
              " 'commission': 140,\n",
              " 'common': 141,\n",
              " 'communicate': 142,\n",
              " 'complication': 143,\n",
              " 'comprising': 144,\n",
              " 'computed': 145,\n",
              " 'concern': 146,\n",
              " 'conclusion': 147,\n",
              " 'condition': 148,\n",
              " 'consecutive': 149,\n",
              " 'consolidation': 150,\n",
              " 'continuous': 151,\n",
              " 'corona': 152,\n",
              " 'coronavirus': 153,\n",
              " 'correlated': 154,\n",
              " 'correlation': 155,\n",
              " 'country': 156,\n",
              " 'covid19': 157,\n",
              " 'covid2019': 158,\n",
              " 'crash': 159,\n",
              " 'created': 160,\n",
              " 'cricket': 161,\n",
              " 'critical': 162,\n",
              " 'cruise': 163,\n",
              " 'ct': 164,\n",
              " 'cycle': 165,\n",
              " 'danger': 166,\n",
              " 'dark': 167,\n",
              " 'data': 168,\n",
              " 'deal': 169,\n",
              " 'death': 170,\n",
              " 'declared': 171,\n",
              " 'demographic': 172,\n",
              " 'demonstrate': 173,\n",
              " 'demonstration': 174,\n",
              " 'density': 175,\n",
              " 'despite': 176,\n",
              " 'detecting': 177,\n",
              " 'device': 178,\n",
              " 'diabetes': 179,\n",
              " 'diagnosed': 180,\n",
              " 'different': 181,\n",
              " 'disease': 182,\n",
              " 'dislodges': 183,\n",
              " 'dismiss': 184,\n",
              " 'dismissal': 185,\n",
              " 'dismissed': 186,\n",
              " 'distinguished': 187,\n",
              " 'ditko': 188,\n",
              " 'doctor': 189,\n",
              " 'dominate': 190,\n",
              " 'drama': 191,\n",
              " 'duration': 192,\n",
              " 'early': 193,\n",
              " 'eat': 194,\n",
              " 'ecg': 195,\n",
              " 'electrocardiogram': 196,\n",
              " 'em': 197,\n",
              " 'emergency': 198,\n",
              " 'end': 199,\n",
              " 'enrolled': 200,\n",
              " 'enzyme': 201,\n",
              " 'epicardial': 202,\n",
              " 'epidemic': 203,\n",
              " 'epidemiologic': 204,\n",
              " 'existed': 205,\n",
              " 'existing': 206,\n",
              " 'extrinsic': 207,\n",
              " 'factor': 208,\n",
              " 'fantasy': 209,\n",
              " 'fatality': 210,\n",
              " 'feb': 211,\n",
              " 'fibrillation': 212,\n",
              " 'fictional': 213,\n",
              " 'field': 214,\n",
              " 'fielding': 215,\n",
              " 'film': 216,\n",
              " 'financial': 217,\n",
              " 'finding': 218,\n",
              " 'firm': 219,\n",
              " 'foe': 220,\n",
              " 'following': 221,\n",
              " 'fourth': 222,\n",
              " 'friend': 223,\n",
              " 'function': 224,\n",
              " 'game': 225,\n",
              " 'gene': 226,\n",
              " 'glass': 227,\n",
              " 'globe': 228,\n",
              " 'goblin': 229,\n",
              " 'golden': 230,\n",
              " 'good': 231,\n",
              " 'governing': 232,\n",
              " 'granger': 233,\n",
              " 'green': 234,\n",
              " 'ground': 235,\n",
              " 'group': 236,\n",
              " 'guidance': 237,\n",
              " 'gun': 238,\n",
              " 'gwen': 239,\n",
              " 'ha': 240,\n",
              " 'hallmark': 241,\n",
              " 'harry': 242,\n",
              " 'harrys': 243,\n",
              " 'health': 244,\n",
              " 'heart': 245,\n",
              " 'hermione': 246,\n",
              " 'high': 247,\n",
              " 'higher': 248,\n",
              " 'highlighted': 249,\n",
              " 'hit': 250,\n",
              " 'hockey': 251,\n",
              " 'hogwarts': 252,\n",
              " 'hollywood': 253,\n",
              " 'hoquei': 254,\n",
              " 'horror': 255,\n",
              " 'hospital': 256,\n",
              " 'hospitalized': 257,\n",
              " 'hypertension': 258,\n",
              " 'identified': 259,\n",
              " 'identify': 260,\n",
              " 'imaging': 261,\n",
              " 'immortal': 262,\n",
              " 'incidence': 263,\n",
              " 'include': 264,\n",
              " 'included': 265,\n",
              " 'including': 266,\n",
              " 'independent': 267,\n",
              " 'index': 268,\n",
              " 'indicated': 269,\n",
              " 'individual': 270,\n",
              " 'ineligible': 271,\n",
              " 'inflammation': 272,\n",
              " 'information': 273,\n",
              " 'inhospital': 274,\n",
              " 'initially': 275,\n",
              " 'injury': 276,\n",
              " 'inline': 277,\n",
              " 'inning': 278,\n",
              " 'intends': 279,\n",
              " 'interlobular': 280,\n",
              " 'international': 281,\n",
              " 'internationalstyle': 282,\n",
              " 'interpretation': 283,\n",
              " 'intervention': 284,\n",
              " 'interview': 285,\n",
              " 'intrinsic': 286,\n",
              " 'invented': 287,\n",
              " 'investigate': 288,\n",
              " 'involved': 289,\n",
              " 'issue': 290,\n",
              " 'issued': 291,\n",
              " 'j': 292,\n",
              " 'jameson': 293,\n",
              " 'jan': 294,\n",
              " 'jane': 295,\n",
              " 'january': 296,\n",
              " 'jerry': 297,\n",
              " 'jonah': 298,\n",
              " 'july': 299,\n",
              " 'k': 300,\n",
              " 'key': 301,\n",
              " 'keyindependent': 302,\n",
              " 'killed': 303,\n",
              " 'known': 304,\n",
              " 'kovic': 305,\n",
              " 'laboratory': 306,\n",
              " 'leading': 307,\n",
              " 'lee': 308,\n",
              " 'level': 309,\n",
              " 'life': 310,\n",
              " 'light': 311,\n",
              " 'likely': 312,\n",
              " 'linked': 313,\n",
              " 'load': 314,\n",
              " 'logistic': 315,\n",
              " 'long': 316,\n",
              " 'lord': 317,\n",
              " 'low': 318,\n",
              " 'magic': 319,\n",
              " 'maguire': 320,\n",
              " 'main': 321,\n",
              " 'man': 322,\n",
              " 'march': 323,\n",
              " 'marvel': 324,\n",
              " 'mary': 325,\n",
              " 'match': 326,\n",
              " 'max': 327,\n",
              " 'mean': 328,\n",
              " 'medical': 329,\n",
              " 'mellites': 330,\n",
              " 'men': 331,\n",
              " 'method': 332,\n",
              " 'mild': 333,\n",
              " 'ministry': 334,\n",
              " 'mode': 335,\n",
              " 'modell': 336,\n",
              " 'money': 337,\n",
              " 'monitoring': 338,\n",
              " 'movie': 339,\n",
              " 'muggles': 340,\n",
              " 'multivariable': 341,\n",
              " 'multivariate': 342,\n",
              " 'myocardial': 343,\n",
              " 'myocarditis': 344,\n",
              " 'mysterious': 345,\n",
              " 'n': 346,\n",
              " 'national': 347,\n",
              " 'natriuretic': 348,\n",
              " 'neglected': 349,\n",
              " 'new': 350,\n",
              " 'nomination': 351,\n",
              " 'nonmagical': 352,\n",
              " 'nonsevere': 353,\n",
              " 'normal': 354,\n",
              " 'noted': 355,\n",
              " 'notwithstanding': 356,\n",
              " 'novel': 357,\n",
              " 'ntprobnp': 358,\n",
              " 'number': 359,\n",
              " 'objective': 360,\n",
              " 'octopus': 361,\n",
              " 'offfield': 362,\n",
              " 'olympics': 363,\n",
              " 'onset': 364,\n",
              " 'opacity': 365,\n",
              " 'orf1ab': 366,\n",
              " 'origin': 367,\n",
              " 'orphan': 368,\n",
              " 'osborn': 369,\n",
              " 'outbreak': 370,\n",
              " 'outcome': 371,\n",
              " 'overarching': 372,\n",
              " 'overthrow': 373,\n",
              " 'oxygen': 374,\n",
              " 'p0001': 375,\n",
              " 'p0008': 376,\n",
              " 'p0012': 377,\n",
              " 'p0048': 378,\n",
              " 'p005': 379,\n",
              " 'p005typical': 380,\n",
              " 'parent': 381,\n",
              " 'parker': 382,\n",
              " 'patchy': 383,\n",
              " 'patient': 384,\n",
              " 'patins': 385,\n",
              " 'pcr': 386,\n",
              " 'peak': 387,\n",
              " 'people': 388,\n",
              " 'peptide': 389,\n",
              " 'peter': 390,\n",
              " 'pgml': 391,\n",
              " 'pii': 392,\n",
              " 'pitch': 393,\n",
              " 'plane': 394,\n",
              " 'played': 395,\n",
              " 'player': 396,\n",
              " 'pneumonia': 397,\n",
              " 'portrayal': 398,\n",
              " 'potential': 399,\n",
              " 'potter': 400,\n",
              " 'predicted': 401,\n",
              " 'predictor': 402,\n",
              " 'presented': 403,\n",
              " 'pressure': 404,\n",
              " 'prevent': 405,\n",
              " 'pro': 406,\n",
              " 'process': 407,\n",
              " 'prognostic': 408,\n",
              " 'public': 409,\n",
              " 'published': 410,\n",
              " 'pulmonary': 411,\n",
              " 'quad': 412,\n",
              " 'radioactive': 413,\n",
              " 'radiologic': 414,\n",
              " 'rain': 415,\n",
              " 'raised': 416,\n",
              " 'rare': 417,\n",
              " 'rate': 418,\n",
              " 'reached': 419,\n",
              " 'realtime': 420,\n",
              " 'received': 421,\n",
              " 'record': 422,\n",
              " 'referee': 423,\n",
              " 'regardless': 424,\n",
              " 'region': 425,\n",
              " 'regress': 426,\n",
              " 'regression': 427,\n",
              " 'related': 428,\n",
              " 'relatively': 429,\n",
              " 'remain': 430,\n",
              " 'reported': 431,\n",
              " 'respiratory': 432,\n",
              " 'result': 433,\n",
              " 'results：of': 434,\n",
              " 'retrospective': 435,\n",
              " 'review': 436,\n",
              " 'richard': 437,\n",
              " 'rink': 438,\n",
              " 'risk': 439,\n",
              " 'risky': 440,\n",
              " 'role': 441,\n",
              " 'roller': 442,\n",
              " 'romance': 443,\n",
              " 'romantic': 444,\n",
              " 'ron': 445,\n",
              " 'rowling': 446,\n",
              " 'rtpcr': 447,\n",
              " 'run': 448,\n",
              " 'sample': 449,\n",
              " 'sarscov2': 450,\n",
              " 'saturation': 451,\n",
              " 'scan': 452,\n",
              " 'school': 453,\n",
              " 'score': 454,\n",
              " 'scorer': 455,\n",
              " 'screening': 456,\n",
              " 'second': 457,\n",
              " 'separate': 458,\n",
              " 'septal': 459,\n",
              " 'series': 460,\n",
              " 'serum': 461,\n",
              " 'set': 462,\n",
              " 'severe': 463,\n",
              " 'severity': 464,\n",
              " 'shadow': 465,\n",
              " 'shooting': 466,\n",
              " 'showed': 467,\n",
              " 'significantly': 468,\n",
              " 'silver': 469,\n",
              " 'singlecenter': 470,\n",
              " 'skate': 471,\n",
              " 'spider': 472,\n",
              " 'spiderman': 473,\n",
              " 'spiderrelated': 474,\n",
              " 'spidersense': 475,\n",
              " 'spiderwebs': 476,\n",
              " 'sport': 477,\n",
              " 'stacy': 478,\n",
              " 'stage': 479,\n",
              " 'stan': 480,\n",
              " 'star': 481,\n",
              " 'starred': 482,\n",
              " 'statistical': 483,\n",
              " 'steve': 484,\n",
              " 'story': 485,\n",
              " 'striking': 486,\n",
              " 'struggle': 487,\n",
              " 'student': 488,\n",
              " 'study': 489,\n",
              " 'stump': 490,\n",
              " 'subjugate': 491,\n",
              " 'successful': 492,\n",
              " 'summer': 493,\n",
              " 'superhero': 494,\n",
              " 'supporting': 495,\n",
              " 'surface': 496,\n",
              " 'swap': 497,\n",
              " 'syndrome': 498,\n",
              " 'team': 499,\n",
              " 'television': 500,\n",
              " 'terminal': 501,\n",
              " 'thickening': 502,\n",
              " 'threshold': 503,\n",
              " 'thriller': 504,\n",
              " 'time': 505,\n",
              " 'tissue': 506,\n",
              " 'tni': 507,\n",
              " 'tomographic': 508,\n",
              " 'total': 509,\n",
              " 'try': 510,\n",
              " 'tumor': 511,\n",
              " 'type': 512,\n",
              " 'umpire': 513,\n",
              " 'uncle': 514,\n",
              " 'underlying': 515,\n",
              " 'universe': 516,\n",
              " 'unknown': 517,\n",
              " 'used': 518,\n",
              " 'v': 519,\n",
              " 'value': 520,\n",
              " 'vampire': 521,\n",
              " 'venom': 522,\n",
              " 'video': 523,\n",
              " 'viral': 524,\n",
              " 'virus': 525,\n",
              " 'vital': 526,\n",
              " 'voldemort': 527,\n",
              " 'wa': 528,\n",
              " 'watson': 529,\n",
              " 'weasley': 530,\n",
              " 'wicket': 531,\n",
              " 'witchcraft': 532,\n",
              " 'wizard': 533,\n",
              " 'wizardry': 534,\n",
              " 'won': 535,\n",
              " 'worldwide': 536,\n",
              " 'wristmounted': 537,\n",
              " 'writerartist': 538,\n",
              " 'writereditor': 539,\n",
              " 'written': 540,\n",
              " 'york': 541,\n",
              " 'youan': 542,\n",
              " 'young': 543}"
            ]
          },
          "metadata": {
            "tags": []
          },
          "execution_count": 10
        }
      ]
    },
    {
      "cell_type": "markdown",
      "metadata": {
        "id": "4sT1TWEz9isW",
        "colab_type": "text"
      },
      "source": [
        "# TF_IDF Calculations"
      ]
    },
    {
      "cell_type": "code",
      "metadata": {
        "id": "0-ujeGArcNrQ",
        "colab_type": "code",
        "outputId": "3921106e-ba16-431f-86a0-53f9af7d8b7c",
        "colab": {
          "base_uri": "https://localhost:8080/",
          "height": 136
        }
      },
      "source": [
        "tf_matrix = LemVectorizer.transform(documents).toarray()\n",
        "print (tf_matrix)"
      ],
      "execution_count": 11,
      "outputs": [
        {
          "output_type": "stream",
          "text": [
            "[[0 0 1 ... 0 1 0]\n",
            " [0 0 0 ... 0 0 0]\n",
            " [1 1 0 ... 0 0 0]\n",
            " ...\n",
            " [0 0 0 ... 1 0 0]\n",
            " [0 0 0 ... 0 0 0]\n",
            " [0 0 0 ... 0 0 0]]\n"
          ],
          "name": "stdout"
        }
      ]
    },
    {
      "cell_type": "code",
      "metadata": {
        "id": "5OUjkNUZcUew",
        "colab_type": "code",
        "outputId": "e27ba224-4201-4df8-eac3-e3994c7c4e37",
        "colab": {
          "base_uri": "https://localhost:8080/",
          "height": 34
        }
      },
      "source": [
        "tf_matrix.shape"
      ],
      "execution_count": 12,
      "outputs": [
        {
          "output_type": "execute_result",
          "data": {
            "text/plain": [
              "(8, 544)"
            ]
          },
          "metadata": {
            "tags": []
          },
          "execution_count": 12
        }
      ]
    },
    {
      "cell_type": "code",
      "metadata": {
        "id": "vHdzdt9fcXik",
        "colab_type": "code",
        "outputId": "c4ce6589-5640-486e-8b38-6d7df589b67e",
        "colab": {
          "base_uri": "https://localhost:8080/",
          "height": 1564
        }
      },
      "source": [
        "tfidfTran = TfidfTransformer(norm=\"l2\")\n",
        "tfidfTran.fit(tf_matrix)\n",
        "print (tfidfTran.idf_)"
      ],
      "execution_count": 13,
      "outputs": [
        {
          "output_type": "stream",
          "text": [
            "[2.5040774  2.5040774  2.5040774  2.5040774  2.5040774  2.5040774\n",
            " 2.5040774  2.5040774  2.5040774  2.5040774  2.5040774  2.5040774\n",
            " 2.5040774  2.5040774  2.5040774  2.5040774  2.5040774  2.5040774\n",
            " 2.5040774  2.5040774  2.09861229 2.5040774  2.5040774  2.5040774\n",
            " 1.81093022 2.5040774  2.09861229 2.09861229 2.5040774  2.09861229\n",
            " 2.5040774  2.5040774  2.5040774  2.5040774  2.5040774  2.5040774\n",
            " 2.09861229 2.5040774  2.5040774  2.5040774  2.5040774  2.5040774\n",
            " 2.5040774  2.5040774  2.5040774  2.5040774  2.5040774  2.5040774\n",
            " 2.5040774  2.5040774  2.5040774  2.5040774  2.5040774  2.5040774\n",
            " 2.5040774  2.09861229 2.5040774  2.5040774  2.5040774  2.5040774\n",
            " 2.5040774  2.5040774  2.5040774  2.5040774  2.5040774  2.5040774\n",
            " 2.5040774  2.5040774  2.5040774  2.5040774  2.5040774  2.5040774\n",
            " 2.5040774  2.5040774  2.09861229 2.5040774  2.5040774  2.5040774\n",
            " 2.5040774  2.5040774  2.5040774  2.09861229 2.5040774  2.5040774\n",
            " 2.5040774  2.5040774  2.5040774  2.5040774  2.5040774  2.5040774\n",
            " 2.5040774  2.5040774  2.5040774  2.5040774  2.5040774  2.5040774\n",
            " 2.09861229 2.5040774  2.5040774  2.5040774  2.5040774  2.5040774\n",
            " 2.5040774  2.5040774  2.5040774  2.5040774  2.5040774  2.5040774\n",
            " 2.5040774  2.5040774  2.5040774  2.5040774  2.5040774  2.5040774\n",
            " 2.5040774  2.5040774  2.5040774  2.5040774  2.09861229 1.81093022\n",
            " 2.5040774  2.5040774  2.5040774  2.5040774  2.5040774  2.5040774\n",
            " 2.09861229 2.5040774  2.5040774  2.5040774  2.5040774  2.09861229\n",
            " 2.09861229 2.5040774  2.5040774  2.5040774  2.5040774  2.5040774\n",
            " 2.5040774  2.5040774  2.5040774  2.5040774  2.5040774  2.5040774\n",
            " 2.5040774  2.5040774  2.09861229 2.5040774  2.5040774  2.5040774\n",
            " 2.5040774  2.5040774  2.5040774  2.5040774  2.5040774  2.5040774\n",
            " 2.5040774  2.09861229 2.5040774  2.5040774  2.5040774  2.5040774\n",
            " 1.81093022 2.5040774  2.09861229 2.5040774  2.5040774  2.5040774\n",
            " 2.5040774  2.5040774  2.09861229 2.5040774  2.5040774  2.5040774\n",
            " 2.5040774  2.5040774  2.5040774  2.5040774  2.5040774  2.5040774\n",
            " 2.09861229 2.5040774  2.09861229 2.5040774  2.5040774  2.5040774\n",
            " 2.5040774  2.5040774  2.5040774  2.5040774  2.5040774  2.5040774\n",
            " 2.5040774  2.09861229 2.5040774  2.5040774  2.5040774  2.5040774\n",
            " 2.5040774  2.5040774  2.5040774  2.5040774  2.5040774  2.5040774\n",
            " 2.5040774  2.5040774  2.5040774  2.5040774  1.81093022 2.09861229\n",
            " 2.5040774  2.5040774  2.5040774  2.5040774  2.5040774  2.5040774\n",
            " 2.5040774  2.5040774  2.5040774  2.5040774  2.5040774  2.5040774\n",
            " 2.5040774  2.5040774  2.5040774  2.09861229 2.5040774  2.5040774\n",
            " 2.5040774  2.5040774  2.5040774  2.5040774  2.5040774  2.5040774\n",
            " 2.5040774  2.09861229 2.09861229 2.5040774  2.5040774  2.5040774\n",
            " 1.58778666 2.5040774  2.09861229 2.5040774  1.81093022 2.5040774\n",
            " 2.5040774  2.5040774  2.09861229 2.5040774  2.5040774  2.5040774\n",
            " 2.5040774  2.5040774  2.5040774  2.5040774  2.5040774  2.5040774\n",
            " 2.5040774  2.5040774  2.5040774  2.5040774  2.5040774  2.5040774\n",
            " 2.09861229 2.5040774  1.81093022 2.09861229 2.5040774  2.5040774\n",
            " 2.5040774  2.5040774  2.09861229 2.5040774  2.5040774  2.5040774\n",
            " 2.09861229 2.5040774  2.5040774  2.5040774  2.5040774  2.09861229\n",
            " 2.5040774  2.5040774  2.5040774  2.5040774  2.5040774  2.5040774\n",
            " 2.5040774  2.5040774  2.09861229 2.5040774  2.09861229 2.5040774\n",
            " 2.5040774  2.5040774  2.5040774  2.5040774  2.5040774  2.5040774\n",
            " 2.5040774  2.5040774  2.5040774  2.5040774  2.09861229 2.5040774\n",
            " 2.5040774  2.5040774  2.5040774  2.09861229 2.5040774  2.5040774\n",
            " 2.5040774  2.5040774  2.5040774  2.5040774  2.5040774  2.5040774\n",
            " 2.09861229 2.5040774  2.5040774  2.5040774  2.5040774  2.5040774\n",
            " 2.5040774  2.5040774  2.5040774  2.5040774  2.5040774  2.5040774\n",
            " 2.5040774  2.5040774  2.09861229 2.5040774  2.5040774  2.5040774\n",
            " 2.5040774  2.5040774  2.5040774  2.5040774  2.5040774  2.5040774\n",
            " 2.5040774  2.5040774  2.5040774  2.5040774  2.09861229 2.5040774\n",
            " 2.5040774  2.5040774  2.5040774  2.5040774  2.5040774  2.5040774\n",
            " 2.5040774  2.5040774  2.5040774  2.5040774  2.5040774  2.5040774\n",
            " 2.5040774  2.5040774  2.5040774  2.5040774  2.5040774  2.5040774\n",
            " 2.5040774  2.5040774  2.5040774  2.5040774  2.5040774  2.5040774\n",
            " 2.5040774  2.5040774  2.5040774  2.5040774  2.5040774  2.5040774\n",
            " 2.5040774  2.5040774  2.5040774  2.5040774  2.5040774  2.5040774\n",
            " 1.81093022 2.5040774  2.5040774  2.5040774  2.5040774  2.5040774\n",
            " 2.5040774  2.5040774  2.5040774  2.5040774  2.5040774  2.09861229\n",
            " 2.5040774  2.09861229 2.5040774  2.09861229 2.5040774  2.5040774\n",
            " 2.5040774  2.5040774  2.5040774  2.09861229 2.5040774  2.5040774\n",
            " 2.5040774  2.5040774  2.5040774  2.5040774  2.5040774  2.5040774\n",
            " 2.5040774  2.5040774  2.5040774  2.5040774  2.09861229 2.5040774\n",
            " 2.5040774  2.5040774  2.09861229 2.5040774  2.5040774  2.5040774\n",
            " 2.5040774  2.5040774  2.5040774  2.5040774  2.5040774  2.5040774\n",
            " 2.5040774  1.81093022 2.5040774  2.5040774  2.5040774  2.5040774\n",
            " 2.5040774  1.81093022 2.5040774  2.09861229 2.5040774  2.5040774\n",
            " 2.5040774  2.09861229 2.5040774  2.5040774  2.5040774  2.5040774\n",
            " 2.09861229 2.5040774  2.5040774  2.5040774  2.5040774  2.5040774\n",
            " 2.5040774  2.5040774  2.5040774  2.5040774  2.5040774  2.5040774\n",
            " 2.5040774  1.81093022 2.5040774  2.5040774  2.5040774  2.5040774\n",
            " 2.5040774  2.5040774  2.5040774  2.5040774  2.5040774  2.5040774\n",
            " 2.5040774  2.5040774  2.5040774  2.5040774  2.5040774  2.5040774\n",
            " 2.5040774  2.5040774  2.5040774  2.5040774  2.5040774  2.09861229\n",
            " 2.5040774  2.09861229 2.5040774  2.09861229 2.5040774  2.5040774\n",
            " 2.5040774  2.5040774  2.5040774  2.5040774  2.5040774  2.5040774\n",
            " 2.5040774  2.5040774  2.5040774  2.5040774  2.5040774  2.5040774\n",
            " 2.5040774  2.5040774  2.5040774  2.5040774  2.5040774  2.5040774\n",
            " 2.5040774  2.5040774  2.09861229 2.5040774  2.5040774  2.5040774\n",
            " 2.5040774  2.5040774  2.09861229 2.5040774  2.09861229 2.5040774\n",
            " 2.5040774  2.5040774  2.5040774  2.09861229 2.5040774  2.5040774\n",
            " 1.58778666 2.5040774  2.5040774  2.5040774  2.5040774  2.5040774\n",
            " 2.5040774  2.5040774  2.5040774  2.5040774  2.5040774  2.5040774\n",
            " 2.5040774  2.5040774  2.5040774  2.5040774 ]\n"
          ],
          "name": "stdout"
        }
      ]
    },
    {
      "cell_type": "code",
      "metadata": {
        "id": "Y9mWScxBcb6S",
        "colab_type": "code",
        "outputId": "e867e2db-2792-4389-fba0-8feaf857c1a2",
        "colab": {
          "base_uri": "https://localhost:8080/",
          "height": 51
        }
      },
      "source": [
        "def idf(n,df):\n",
        "    result = math.log((n+1.0)/(df+1.0)) + 1\n",
        "    return result\n",
        "print( \"The idf for terms that appear in one document: \" + str(idf(4,1)))\n",
        "print( \"The idf for terms that appear in two documents: \" + str(idf(4,2)))"
      ],
      "execution_count": 14,
      "outputs": [
        {
          "output_type": "stream",
          "text": [
            "The idf for terms that appear in one document: 1.916290731874155\n",
            "The idf for terms that appear in two documents: 1.5108256237659907\n"
          ],
          "name": "stdout"
        }
      ]
    },
    {
      "cell_type": "code",
      "metadata": {
        "id": "vr019Vnpck6S",
        "colab_type": "code",
        "outputId": "3a0c878d-7f85-45e0-f608-ac63aab4f528",
        "colab": {
          "base_uri": "https://localhost:8080/",
          "height": 136
        }
      },
      "source": [
        "tfidf_matrix = tfidfTran.transform(tf_matrix)\n",
        "print (tfidf_matrix.toarray())"
      ],
      "execution_count": 15,
      "outputs": [
        {
          "output_type": "stream",
          "text": [
            "[[0.         0.         0.05690053 ... 0.         0.05690053 0.        ]\n",
            " [0.         0.         0.         ... 0.         0.         0.        ]\n",
            " [0.04549598 0.04549598 0.         ... 0.         0.         0.        ]\n",
            " ...\n",
            " [0.         0.         0.         ... 0.08517796 0.         0.        ]\n",
            " [0.         0.         0.         ... 0.         0.         0.        ]\n",
            " [0.         0.         0.         ... 0.         0.         0.        ]]\n"
          ],
          "name": "stdout"
        }
      ]
    },
    {
      "cell_type": "markdown",
      "metadata": {
        "id": "gxESXEGq9qn9",
        "colab_type": "text"
      },
      "source": [
        "# Cosine Similarity Matrix"
      ]
    },
    {
      "cell_type": "code",
      "metadata": {
        "id": "qsaeQ_NccqIo",
        "colab_type": "code",
        "outputId": "7d5810aa-594a-4257-879c-2dc8b6c964d3",
        "colab": {
          "base_uri": "https://localhost:8080/",
          "height": 289
        }
      },
      "source": [
        "cos_similarity_matrix = (tfidf_matrix * tfidf_matrix.T).toarray()\n",
        "print (cos_similarity_matrix)"
      ],
      "execution_count": 16,
      "outputs": [
        {
          "output_type": "stream",
          "text": [
            "[[1.         0.31494383 0.22431601 0.         0.01490693 0.00194864\n",
            "  0.00384484 0.00839603]\n",
            " [0.31494383 1.         0.27191561 0.00848904 0.         0.00338107\n",
            "  0.00667113 0.01942379]\n",
            " [0.22431601 0.27191561 1.         0.         0.01260042 0.00816564\n",
            "  0.00614843 0.01118869]\n",
            " [0.         0.00848904 0.         1.         0.0071785  0.05126799\n",
            "  0.         0.01051885]\n",
            " [0.01490693 0.         0.01260042 0.0071785  1.         0.\n",
            "  0.01692371 0.00717347]\n",
            " [0.00194864 0.00338107 0.00816564 0.05126799 0.         1.\n",
            "  0.01726673 0.00837903]\n",
            " [0.00384484 0.00667113 0.00614843 0.         0.01692371 0.01726673\n",
            "  1.         0.03306504]\n",
            " [0.00839603 0.01942379 0.01118869 0.01051885 0.00717347 0.00837903\n",
            "  0.03306504 1.        ]]\n"
          ],
          "name": "stdout"
        }
      ]
    },
    {
      "cell_type": "code",
      "metadata": {
        "id": "4d2_OJHL4M4c",
        "colab_type": "code",
        "outputId": "7323b2d9-9d10-49a4-8303-b01369296041",
        "colab": {
          "base_uri": "https://localhost:8080/",
          "height": 297
        }
      },
      "source": [
        "df = pd.DataFrame(cos_similarity_matrix, index= ['doc1','doc2','doc3', 'doc4', 'doc5', 'doc6', 'doc7', 'doc8'], columns=['doc1','doc2','doc3', 'doc4', 'doc5', 'doc6', 'doc7', 'doc8'])\n",
        "df"
      ],
      "execution_count": 17,
      "outputs": [
        {
          "output_type": "execute_result",
          "data": {
            "text/html": [
              "<div>\n",
              "<style scoped>\n",
              "    .dataframe tbody tr th:only-of-type {\n",
              "        vertical-align: middle;\n",
              "    }\n",
              "\n",
              "    .dataframe tbody tr th {\n",
              "        vertical-align: top;\n",
              "    }\n",
              "\n",
              "    .dataframe thead th {\n",
              "        text-align: right;\n",
              "    }\n",
              "</style>\n",
              "<table border=\"1\" class=\"dataframe\">\n",
              "  <thead>\n",
              "    <tr style=\"text-align: right;\">\n",
              "      <th></th>\n",
              "      <th>doc1</th>\n",
              "      <th>doc2</th>\n",
              "      <th>doc3</th>\n",
              "      <th>doc4</th>\n",
              "      <th>doc5</th>\n",
              "      <th>doc6</th>\n",
              "      <th>doc7</th>\n",
              "      <th>doc8</th>\n",
              "    </tr>\n",
              "  </thead>\n",
              "  <tbody>\n",
              "    <tr>\n",
              "      <th>doc1</th>\n",
              "      <td>1.000000</td>\n",
              "      <td>0.314944</td>\n",
              "      <td>0.224316</td>\n",
              "      <td>0.000000</td>\n",
              "      <td>0.014907</td>\n",
              "      <td>0.001949</td>\n",
              "      <td>0.003845</td>\n",
              "      <td>0.008396</td>\n",
              "    </tr>\n",
              "    <tr>\n",
              "      <th>doc2</th>\n",
              "      <td>0.314944</td>\n",
              "      <td>1.000000</td>\n",
              "      <td>0.271916</td>\n",
              "      <td>0.008489</td>\n",
              "      <td>0.000000</td>\n",
              "      <td>0.003381</td>\n",
              "      <td>0.006671</td>\n",
              "      <td>0.019424</td>\n",
              "    </tr>\n",
              "    <tr>\n",
              "      <th>doc3</th>\n",
              "      <td>0.224316</td>\n",
              "      <td>0.271916</td>\n",
              "      <td>1.000000</td>\n",
              "      <td>0.000000</td>\n",
              "      <td>0.012600</td>\n",
              "      <td>0.008166</td>\n",
              "      <td>0.006148</td>\n",
              "      <td>0.011189</td>\n",
              "    </tr>\n",
              "    <tr>\n",
              "      <th>doc4</th>\n",
              "      <td>0.000000</td>\n",
              "      <td>0.008489</td>\n",
              "      <td>0.000000</td>\n",
              "      <td>1.000000</td>\n",
              "      <td>0.007178</td>\n",
              "      <td>0.051268</td>\n",
              "      <td>0.000000</td>\n",
              "      <td>0.010519</td>\n",
              "    </tr>\n",
              "    <tr>\n",
              "      <th>doc5</th>\n",
              "      <td>0.014907</td>\n",
              "      <td>0.000000</td>\n",
              "      <td>0.012600</td>\n",
              "      <td>0.007178</td>\n",
              "      <td>1.000000</td>\n",
              "      <td>0.000000</td>\n",
              "      <td>0.016924</td>\n",
              "      <td>0.007173</td>\n",
              "    </tr>\n",
              "    <tr>\n",
              "      <th>doc6</th>\n",
              "      <td>0.001949</td>\n",
              "      <td>0.003381</td>\n",
              "      <td>0.008166</td>\n",
              "      <td>0.051268</td>\n",
              "      <td>0.000000</td>\n",
              "      <td>1.000000</td>\n",
              "      <td>0.017267</td>\n",
              "      <td>0.008379</td>\n",
              "    </tr>\n",
              "    <tr>\n",
              "      <th>doc7</th>\n",
              "      <td>0.003845</td>\n",
              "      <td>0.006671</td>\n",
              "      <td>0.006148</td>\n",
              "      <td>0.000000</td>\n",
              "      <td>0.016924</td>\n",
              "      <td>0.017267</td>\n",
              "      <td>1.000000</td>\n",
              "      <td>0.033065</td>\n",
              "    </tr>\n",
              "    <tr>\n",
              "      <th>doc8</th>\n",
              "      <td>0.008396</td>\n",
              "      <td>0.019424</td>\n",
              "      <td>0.011189</td>\n",
              "      <td>0.010519</td>\n",
              "      <td>0.007173</td>\n",
              "      <td>0.008379</td>\n",
              "      <td>0.033065</td>\n",
              "      <td>1.000000</td>\n",
              "    </tr>\n",
              "  </tbody>\n",
              "</table>\n",
              "</div>"
            ],
            "text/plain": [
              "          doc1      doc2      doc3  ...      doc6      doc7      doc8\n",
              "doc1  1.000000  0.314944  0.224316  ...  0.001949  0.003845  0.008396\n",
              "doc2  0.314944  1.000000  0.271916  ...  0.003381  0.006671  0.019424\n",
              "doc3  0.224316  0.271916  1.000000  ...  0.008166  0.006148  0.011189\n",
              "doc4  0.000000  0.008489  0.000000  ...  0.051268  0.000000  0.010519\n",
              "doc5  0.014907  0.000000  0.012600  ...  0.000000  0.016924  0.007173\n",
              "doc6  0.001949  0.003381  0.008166  ...  1.000000  0.017267  0.008379\n",
              "doc7  0.003845  0.006671  0.006148  ...  0.017267  1.000000  0.033065\n",
              "doc8  0.008396  0.019424  0.011189  ...  0.008379  0.033065  1.000000\n",
              "\n",
              "[8 rows x 8 columns]"
            ]
          },
          "metadata": {
            "tags": []
          },
          "execution_count": 17
        }
      ]
    },
    {
      "cell_type": "code",
      "metadata": {
        "id": "DHhHHBUh5RCC",
        "colab_type": "code",
        "colab": {}
      },
      "source": [
        "df.to_csv('sim_matrix.csv')"
      ],
      "execution_count": 0,
      "outputs": []
    },
    {
      "cell_type": "code",
      "metadata": {
        "id": "ip1VIxsV9OWr",
        "colab_type": "code",
        "outputId": "e282eb10-4d33-4333-a148-c0821b0df1ec",
        "colab": {
          "base_uri": "https://localhost:8080/",
          "height": 289
        }
      },
      "source": [
        "cos_similarity_matrix"
      ],
      "execution_count": 19,
      "outputs": [
        {
          "output_type": "execute_result",
          "data": {
            "text/plain": [
              "array([[1.        , 0.31494383, 0.22431601, 0.        , 0.01490693,\n",
              "        0.00194864, 0.00384484, 0.00839603],\n",
              "       [0.31494383, 1.        , 0.27191561, 0.00848904, 0.        ,\n",
              "        0.00338107, 0.00667113, 0.01942379],\n",
              "       [0.22431601, 0.27191561, 1.        , 0.        , 0.01260042,\n",
              "        0.00816564, 0.00614843, 0.01118869],\n",
              "       [0.        , 0.00848904, 0.        , 1.        , 0.0071785 ,\n",
              "        0.05126799, 0.        , 0.01051885],\n",
              "       [0.01490693, 0.        , 0.01260042, 0.0071785 , 1.        ,\n",
              "        0.        , 0.01692371, 0.00717347],\n",
              "       [0.00194864, 0.00338107, 0.00816564, 0.05126799, 0.        ,\n",
              "        1.        , 0.01726673, 0.00837903],\n",
              "       [0.00384484, 0.00667113, 0.00614843, 0.        , 0.01692371,\n",
              "        0.01726673, 1.        , 0.03306504],\n",
              "       [0.00839603, 0.01942379, 0.01118869, 0.01051885, 0.00717347,\n",
              "        0.00837903, 0.03306504, 1.        ]])"
            ]
          },
          "metadata": {
            "tags": []
          },
          "execution_count": 19
        }
      ]
    },
    {
      "cell_type": "markdown",
      "metadata": {
        "id": "abqCkreo9yYr",
        "colab_type": "text"
      },
      "source": [
        "# Similarity Network Graph "
      ]
    },
    {
      "cell_type": "code",
      "metadata": {
        "id": "U_uY8Jm_1XZ_",
        "colab_type": "code",
        "outputId": "5d2416a8-f831-426b-cf22-863ae80b6552",
        "colab": {
          "base_uri": "https://localhost:8080/",
          "height": 384
        }
      },
      "source": [
        "\n",
        "G = nx.from_numpy_matrix(np.array(cos_similarity_matrix))\n",
        "pos=nx.spring_layout(G)\n",
        "labels = {}\n",
        "for idx, node in enumerate(G.nodes()):\n",
        "    labels[node] = ascii_lowercase[idx]\n",
        "nx.draw_networkx_nodes(G, pos)\n",
        "nx.draw_networkx_edges(G, pos)\n",
        "nx.draw_networkx_labels(G, pos, labels, font_size=16)"
      ],
      "execution_count": 20,
      "outputs": [
        {
          "output_type": "execute_result",
          "data": {
            "text/plain": [
              "{0: Text(0.841745585842018, -0.1437313721044677, 'a'),\n",
              " 1: Text(0.5297857290918704, -0.2615199885583736, 'b'),\n",
              " 2: Text(0.5934057698571252, 0.04406766487710522, 'c'),\n",
              " 3: Text(-0.9999999999999999, 0.17826968106296096, 'd'),\n",
              " 4: Text(0.2360313503960871, 0.7331077256377565, 'e'),\n",
              " 5: Text(-0.8442270937553488, -0.40162029201579447, 'f'),\n",
              " 6: Text(-0.17459786712837505, -0.3511607037451265, 'g'),\n",
              " 7: Text(-0.18214347430337682, 0.20258728484593966, 'h')}"
            ]
          },
          "metadata": {
            "tags": []
          },
          "execution_count": 20
        },
        {
          "output_type": "display_data",
          "data": {
            "image/png": "[encoded data removed]",
            "text/plain": [
              "<Figure size 432x288 with 1 Axes>"
            ]
          },
          "metadata": {
            "tags": []
          }
        }
      ]
    },
    {
      "cell_type": "markdown",
      "metadata": {
        "id": "xKnqB5b0-IAl",
        "colab_type": "text"
      },
      "source": [
        "# Soft Cosine Similarity"
      ]
    },
    {
      "cell_type": "markdown",
      "metadata": {
        "id": "eYRAsbhW95c1",
        "colab_type": "text"
      },
      "source": [
        "## Importing Libraries and Downloading FastText pre-trained embeddings"
      ]
    },
    {
      "cell_type": "code",
      "metadata": {
        "id": "iBLnQtABKPvx",
        "colab_type": "code",
        "colab": {}
      },
      "source": [
        "#SOFT COSINE\n",
        "\n",
        "import gensim\n",
        "# upgrade gensim if you can't import softcossim\n",
        "from gensim.matutils import softcossim \n",
        "from gensim import corpora\n",
        "import gensim.downloader as api\n",
        "from gensim.utils import simple_preprocess\n",
        "print(gensim.__version__)\n",
        "#> '3.6.0'\n",
        "\n",
        "# Download the FastText model\n",
        "fasttext_model300 = api.load('fasttext-wiki-news-subwords-300')"
      ],
      "execution_count": 0,
      "outputs": []
    },
    {
      "cell_type": "markdown",
      "metadata": {
        "id": "WzAu_gDV-QKq",
        "colab_type": "text"
      },
      "source": [
        "## Preparing Documents for Similarity Calculations"
      ]
    },
    {
      "cell_type": "code",
      "metadata": {
        "id": "K3moCAQFuIkW",
        "colab_type": "code",
        "outputId": "a71575a0-e4a9-4e43-d85c-c3aab721dde7",
        "colab": {
          "base_uri": "https://localhost:8080/",
          "height": 71
        }
      },
      "source": [
        "# Prepare a dictionary and a corpus.\n",
        "dictionary = corpora.Dictionary([simple_preprocess(doc) for doc in documents])\n",
        "\n",
        "# Prepare the similarity matrix\n",
        "similarity_matrix = fasttext_model300.similarity_matrix(dictionary, tfidf=None, threshold=0.0, exponent=2.0, nonzero_limit=100)\n",
        "\n",
        "# Convert the sentences into bag-of-words vectors.\n",
        "sent_1 = dictionary.doc2bow(simple_preprocess(d1))\n",
        "sent_2 = dictionary.doc2bow(simple_preprocess(d2))\n",
        "sent_3 = dictionary.doc2bow(simple_preprocess(d3))\n",
        "sent_4 = dictionary.doc2bow(simple_preprocess(d4))\n",
        "sent_5 = dictionary.doc2bow(simple_preprocess(d5))\n",
        "sent_6 = dictionary.doc2bow(simple_preprocess(d6))\n",
        "sent_7 = dictionary.doc2bow(simple_preprocess(d7))\n",
        "sent_8 = dictionary.doc2bow(simple_preprocess(d8))\n",
        "\n",
        "sentences = [sent_1, sent_2, sent_3, sent_4, sent_5, sent_6, sent_7, sent_8]"
      ],
      "execution_count": 22,
      "outputs": [
        {
          "output_type": "stream",
          "text": [
            "/usr/local/lib/python3.6/dist-packages/gensim/matutils.py:737: FutureWarning: Conversion of the second argument of issubdtype from `int` to `np.signedinteger` is deprecated. In future, it will be treated as `np.int64 == np.dtype(int).type`.\n",
            "  if np.issubdtype(vec.dtype, np.int):\n"
          ],
          "name": "stderr"
        }
      ]
    },
    {
      "cell_type": "markdown",
      "metadata": {
        "id": "M7TsPY37-ehP",
        "colab_type": "text"
      },
      "source": [
        "## Soft Cosine Similarity Matrix"
      ]
    },
    {
      "cell_type": "code",
      "metadata": {
        "id": "UItxHIDCvasg",
        "colab_type": "code",
        "colab": {}
      },
      "source": [
        "import numpy as np\n",
        "import pandas as pd\n",
        "\n",
        "def create_soft_cossim_matrix(sentences):\n",
        "    len_array = np.arange(len(sentences))\n",
        "    xx, yy = np.meshgrid(len_array, len_array)\n",
        "    cossim_mat = pd.DataFrame([[round(softcossim(sentences[i],sentences[j], similarity_matrix) ,2) for i, j in zip(x,y)] for y, x in zip(xx, yy)])\n",
        "    return cossim_mat\n",
        "\n",
        "soft = create_soft_cossim_matrix(sentences)"
      ],
      "execution_count": 0,
      "outputs": []
    },
    {
      "cell_type": "code",
      "metadata": {
        "id": "UF-znPOf5GF0",
        "colab_type": "code",
        "outputId": "0c34b56f-9ebb-472a-8d42-ff0c3e8ff100",
        "colab": {
          "base_uri": "https://localhost:8080/",
          "height": 297
        }
      },
      "source": [
        "soft"
      ],
      "execution_count": 24,
      "outputs": [
        {
          "output_type": "execute_result",
          "data": {
            "text/html": [
              "<div>\n",
              "<style scoped>\n",
              "    .dataframe tbody tr th:only-of-type {\n",
              "        vertical-align: middle;\n",
              "    }\n",
              "\n",
              "    .dataframe tbody tr th {\n",
              "        vertical-align: top;\n",
              "    }\n",
              "\n",
              "    .dataframe thead th {\n",
              "        text-align: right;\n",
              "    }\n",
              "</style>\n",
              "<table border=\"1\" class=\"dataframe\">\n",
              "  <thead>\n",
              "    <tr style=\"text-align: right;\">\n",
              "      <th></th>\n",
              "      <th>0</th>\n",
              "      <th>1</th>\n",
              "      <th>2</th>\n",
              "      <th>3</th>\n",
              "      <th>4</th>\n",
              "      <th>5</th>\n",
              "      <th>6</th>\n",
              "      <th>7</th>\n",
              "    </tr>\n",
              "  </thead>\n",
              "  <tbody>\n",
              "    <tr>\n",
              "      <th>0</th>\n",
              "      <td>1.00</td>\n",
              "      <td>0.86</td>\n",
              "      <td>0.86</td>\n",
              "      <td>0.65</td>\n",
              "      <td>0.75</td>\n",
              "      <td>0.73</td>\n",
              "      <td>0.69</td>\n",
              "      <td>0.40</td>\n",
              "    </tr>\n",
              "    <tr>\n",
              "      <th>1</th>\n",
              "      <td>0.86</td>\n",
              "      <td>1.00</td>\n",
              "      <td>0.78</td>\n",
              "      <td>0.57</td>\n",
              "      <td>0.68</td>\n",
              "      <td>0.65</td>\n",
              "      <td>0.65</td>\n",
              "      <td>0.40</td>\n",
              "    </tr>\n",
              "    <tr>\n",
              "      <th>2</th>\n",
              "      <td>0.86</td>\n",
              "      <td>0.78</td>\n",
              "      <td>1.00</td>\n",
              "      <td>0.65</td>\n",
              "      <td>0.71</td>\n",
              "      <td>0.72</td>\n",
              "      <td>0.69</td>\n",
              "      <td>0.42</td>\n",
              "    </tr>\n",
              "    <tr>\n",
              "      <th>3</th>\n",
              "      <td>0.65</td>\n",
              "      <td>0.57</td>\n",
              "      <td>0.65</td>\n",
              "      <td>1.00</td>\n",
              "      <td>0.65</td>\n",
              "      <td>0.70</td>\n",
              "      <td>0.64</td>\n",
              "      <td>0.34</td>\n",
              "    </tr>\n",
              "    <tr>\n",
              "      <th>4</th>\n",
              "      <td>0.75</td>\n",
              "      <td>0.68</td>\n",
              "      <td>0.71</td>\n",
              "      <td>0.65</td>\n",
              "      <td>1.00</td>\n",
              "      <td>0.78</td>\n",
              "      <td>0.75</td>\n",
              "      <td>0.38</td>\n",
              "    </tr>\n",
              "    <tr>\n",
              "      <th>5</th>\n",
              "      <td>0.73</td>\n",
              "      <td>0.65</td>\n",
              "      <td>0.72</td>\n",
              "      <td>0.70</td>\n",
              "      <td>0.78</td>\n",
              "      <td>1.00</td>\n",
              "      <td>0.74</td>\n",
              "      <td>0.43</td>\n",
              "    </tr>\n",
              "    <tr>\n",
              "      <th>6</th>\n",
              "      <td>0.69</td>\n",
              "      <td>0.65</td>\n",
              "      <td>0.69</td>\n",
              "      <td>0.64</td>\n",
              "      <td>0.75</td>\n",
              "      <td>0.74</td>\n",
              "      <td>1.00</td>\n",
              "      <td>0.46</td>\n",
              "    </tr>\n",
              "    <tr>\n",
              "      <th>7</th>\n",
              "      <td>0.40</td>\n",
              "      <td>0.40</td>\n",
              "      <td>0.42</td>\n",
              "      <td>0.34</td>\n",
              "      <td>0.38</td>\n",
              "      <td>0.43</td>\n",
              "      <td>0.46</td>\n",
              "      <td>1.00</td>\n",
              "    </tr>\n",
              "  </tbody>\n",
              "</table>\n",
              "</div>"
            ],
            "text/plain": [
              "      0     1     2     3     4     5     6     7\n",
              "0  1.00  0.86  0.86  0.65  0.75  0.73  0.69  0.40\n",
              "1  0.86  1.00  0.78  0.57  0.68  0.65  0.65  0.40\n",
              "2  0.86  0.78  1.00  0.65  0.71  0.72  0.69  0.42\n",
              "3  0.65  0.57  0.65  1.00  0.65  0.70  0.64  0.34\n",
              "4  0.75  0.68  0.71  0.65  1.00  0.78  0.75  0.38\n",
              "5  0.73  0.65  0.72  0.70  0.78  1.00  0.74  0.43\n",
              "6  0.69  0.65  0.69  0.64  0.75  0.74  1.00  0.46\n",
              "7  0.40  0.40  0.42  0.34  0.38  0.43  0.46  1.00"
            ]
          },
          "metadata": {
            "tags": []
          },
          "execution_count": 24
        }
      ]
    },
    {
      "cell_type": "markdown",
      "metadata": {
        "id": "8XtUBbGd-pBe",
        "colab_type": "text"
      },
      "source": [
        "# Soft Cosine Similarity Network Graph"
      ]
    },
    {
      "cell_type": "code",
      "metadata": {
        "id": "UT3mLCUG4bEQ",
        "colab_type": "code",
        "outputId": "6df35bcb-ee2f-4f9c-c744-0109012fa088",
        "colab": {
          "base_uri": "https://localhost:8080/",
          "height": 384
        }
      },
      "source": [
        "import networkx as nx\n",
        "import numpy as np\n",
        "\n",
        "from networkx.generators.small import krackhardt_kite_graph\n",
        "from string import ascii_lowercase\n",
        "G = nx.from_numpy_matrix(np.array(soft))\n",
        "pos=nx.spring_layout(G)\n",
        "labels = {}\n",
        "for idx, node in enumerate(G.nodes()):\n",
        "    labels[node] = ascii_lowercase[idx]\n",
        "nx.draw_networkx_nodes(G, pos)\n",
        "nx.draw_networkx_edges(G, pos)\n",
        "nx.draw_networkx_labels(G, pos, labels, font_size=16)"
      ],
      "execution_count": 25,
      "outputs": [
        {
          "output_type": "execute_result",
          "data": {
            "text/plain": [
              "{0: Text(0.5493962762436561, 0.35848933862869, 'a'),\n",
              " 1: Text(-0.17672259010990607, -0.04027416548680531, 'b'),\n",
              " 2: Text(-0.41582659408412376, 0.5109643940084911, 'c'),\n",
              " 3: Text(0.4121130346081521, -0.6954231904792567, 'd'),\n",
              " 4: Text(-0.24189609010584057, -0.6216772584907388, 'e'),\n",
              " 5: Text(0.7260350879452805, -0.15844942825209118, 'f'),\n",
              " 6: Text(0.14690087550278308, 0.7391572228312548, 'g'),\n",
              " 7: Text(-1.0, -0.09278691275954416, 'h')}"
            ]
          },
          "metadata": {
            "tags": []
          },
          "execution_count": 25
        },
        {
          "output_type": "display_data",
          "data": {
            "image/png": "[encoded data removed]",
            "text/plain": [
              "<Figure size 432x288 with 1 Axes>"
            ]
          },
          "metadata": {
            "tags": []
          }
        }
      ]
    },
    {
      "cell_type": "markdown",
      "metadata": {
        "id": "c1SW7T0N-0y3",
        "colab_type": "text"
      },
      "source": [
        "# Evaluations and Results"
      ]
    },
    {
      "cell_type": "code",
      "metadata": {
        "id": "KamYUOwGOBbO",
        "colab_type": "code",
        "outputId": "60d63df4-9487-4511-fa6d-769a4f2b7456",
        "colab": {
          "base_uri": "https://localhost:8080/",
          "height": 34
        }
      },
      "source": [
        "from sklearn.cluster import AgglomerativeClustering\n",
        "import numpy as np\n",
        "X = np.array(soft) # soft can be replaced with cos_similarity_matrix to generate its Dendogram and clusters\n",
        "clustering = AgglomerativeClustering( n_clusters=3).fit(X)\n",
        "\n",
        "AgglomerativeClustering(n_clusters=3)\n",
        "clustering.labels_\n"
      ],
      "execution_count": 45,
      "outputs": [
        {
          "output_type": "execute_result",
          "data": {
            "text/plain": [
              "array([2, 2, 2, 0, 0, 0, 0, 1])"
            ]
          },
          "metadata": {
            "tags": []
          },
          "execution_count": 45
        }
      ]
    },
    {
      "cell_type": "code",
      "metadata": {
        "id": "H789xlFfed4A",
        "colab_type": "code",
        "outputId": "9ec0a9f4-a19e-4f43-9180-e06d1b213612",
        "colab": {
          "base_uri": "https://localhost:8080/",
          "height": 34
        }
      },
      "source": [
        "from scipy.cluster.hierarchy import dendrogram, linkage\n",
        "from matplotlib import pyplot as plt\n",
        "X = [[i] for i in clustering.labels_]\n",
        "X"
      ],
      "execution_count": 46,
      "outputs": [
        {
          "output_type": "execute_result",
          "data": {
            "text/plain": [
              "[[2], [2], [2], [0], [0], [0], [0], [1]]"
            ]
          },
          "metadata": {
            "tags": []
          },
          "execution_count": 46
        }
      ]
    },
    {
      "cell_type": "code",
      "metadata": {
        "id": "_9ZZFCOWfGmE",
        "colab_type": "code",
        "outputId": "299b7277-7209-4e22-faf2-490092bf8f86",
        "colab": {
          "base_uri": "https://localhost:8080/",
          "height": 268
        }
      },
      "source": [
        "Z = linkage(X, 'single')\n",
        "fig = plt.figure()\n",
        "dn = dendrogram(Z)"
      ],
      "execution_count": 47,
      "outputs": [
        {
          "output_type": "display_data",
          "data": {
            "image/png": "[encoded data removed]",
            "text/plain": [
              "<Figure size 432x288 with 1 Axes>"
            ]
          },
          "metadata": {
            "tags": [],
            "needs_background": "light"
          }
        }
      ]
    },
    {
      "cell_type": "markdown",
      "metadata": {
        "id": "kAF6XhVE_PUa",
        "colab_type": "text"
      },
      "source": [
        "## Accuracy"
      ]
    },
    {
      "cell_type": "code",
      "metadata": {
        "id": "vdr3ek6pfTlu",
        "colab_type": "code",
        "colab": {}
      },
      "source": [
        "Cos_Clusters_Predicted =  [[1], [1], [1], [2], [0], [2], [0], [1]]\n",
        "Soft_Clusters_Predicted = [[2], [2], [2], [0], [0], [0], [0], [1]]\n",
        "\n",
        "Cos_Clusters_Actual =  [[1], [1], [1], [2], [2], [2], [0], [0]]\n",
        "Soft_Clusters_Actual = [[2], [2], [2], [0], [0], [0], [1], [1]]\n"
      ],
      "execution_count": 0,
      "outputs": []
    },
    {
      "cell_type": "markdown",
      "metadata": {
        "id": "dr6HEcmW_9ar",
        "colab_type": "text"
      },
      "source": [
        "Accuracy or Correct Rate\n",
        "\n",
        "![image.png](data:image/png;base64,iVBORw0KGgoAAAANSUhEUgAAAscAAAEBCAYAAACUrwgaAAAgAElEQVR4Ae2d63XcuLJGHcLEMCFMDA7BMTgE5zARnOUY/OMEcGOYECYGh6C7to6+UQ0MgA81KbZ6Y602u4lHVW0Uia8hSv706dOnJ18yMAfMAXPAHDAHzAFzwBwwB55z4NPTt2/fniwSkIAEJCABCUhAAhJ4VAL/93//lw1jxfGjJoFxS0ACEpCABCQgAQn8j4Di2EyQgAQkIAEJSEACEpDACwHFsakgAQlIQAISkIAEJCCBFwKKY1NBAhKQgAQkIAEJSEACLwQUx6aCBCQgAQlIQAISkIAEXggojk0FCUhAAhKQgAQkIAEJvBBQHJsKEpCABCQgAQlIQAISeCGgODYVJCABCUhAAhKQgAQk8EJAcWwqSEACEpCABCQgAQlI4IWA4thUkIAEJCABCUhAAhKQwAsBxbGpIAEJSEACEpCABCQggRcCimNTQQISkIAEJCABCUhAAi8EFMemggQkIAEJSEACEpCABF4IKI5NBQlIQAISkIAEJCABCbwQUBybChKQgAQkIAEJSEACEnghoDg2FSQgAQlIQAISkIAEJPBCQHFsKkhAAhKQgAQkIAEJSOCFgOLYVJCABCQgAQlIQAISkMALAcWxqSABCUhAAhKQgAQkIIEXAorjD5gKTOq3b9+e/vjjj6dPnz798+Iz5//666/nqP/888+nr1+/fkAChiQBCUhAAhKQgAT2EVAc7+N2yV7fv39/+v3335/FMKL3x48fTz9//nz2lSOT/fnz53/EMsKZPhYJSEACEpCABCQggf8RUBx/gEz4+++//xG97A5nZ3gUGrvH2VGmr0UCEpCABCQgAQlI4H8EFMd3ngkI4d9+++2f3eLsFC+FxQ4z/SwSkIAEJCABCUhAAq8EFMevLO7uHcI4O8A8LrGlfPny5YmXRQISkIAEJCABCUjglYDi+JXFXb3jcYjsGHNcu2OcIHm0gl/Is0hAAhKQgAQkIAEJvBJQHL+yuKt39Rfr9ohcxDGTb5GABCQgAQlIQAISeCWgOH5lcTfv+AsTeZyCZ4ctEpCABCQgAQlIQAK3IaA4vg3HU0fJn2tDILMDbJGABCQgAQlIQAISuA0BxfFtOJ42Sv0lPMSxf4rtNPQakoAEJCABCUjgAQgoju9skuvfKOZvGlskIAEJSEACEpCABG5HQHF8O5anjFR/Ec9HKk5BrhEJSEACEpCABB6IgOL4ziY7f77N543vbOJ0VwISkIAEJCCBuyCgOL6LaXp1Mn+lguOPHz9eK3wnAQlIQAISkIAEJPBmAorjNyM8d4Aqjpk8iwQkIAEJSEACEpDA7Qgojm/H8pSR6p9x2/Off5zipEYkIAEJSEACEpDAnRJQHN/ZxH39+vWf/wDEX8i7s8nTXQlIQAISkIAELk9AcXz5Kfq3g2XCnvjlvJ8/f/67wcInnlN2x3kBktUSkIAEJCABCTwsgaK1/N/W7iUL6p9zYyd5beE/EHG3eS0t20lAAhKQgAQk8IgEFMd3OOv8r3hb/6QbO8aI6q07zXeIR5clIAEJSEACEpDAbgKXF8c4yG4n/xtc/UsNfOY8u6EUHhXo7aLSBlE4elFP34yzm+TJHfG3CmTiQwBX8Uub79+/P8f+5cuXf9Wd7K7mJCABCUhAAhKQwF0QuKw4RtTlLzMgeqvwQwDiOIKwCmb6tIW2nK9CknEZk1dsMA7v70kkExvivsZWeSSmHpeWk58lIAEJSEACEpCABJ6eNeaLnrrGM8c8MhDRy+7wklhFHEYQ0ndUEMJp1/5CGuIxdQjN2Tij8d/7PF8WiCs74XxeYvfePmtfAhKQgAQkIAEJXI3ApXaOEXPZBUXM1kcEZuDY8aXfrPBYQQRwTzRW8cx7iwQkIAEJSEACEpDA4xG4jDhGsEa8snO8pSB8ec1KHp/g2Cvt7nGvjeckIAEJSEACEpCABD42gUuI4/rXF9gBXrtjnKnJowT53B6r8B7tChcQzyK9HcPPEpCABCQgAQlIQAIfn0DRhO/3zHGeMWbnuH0eeM0UII4JZFQYM7vS/GJfrxQQi49o9Pp7TgISkIAEJCABCUjg/gkUTfg+4rg+zjB65OGtmKv4Hu1K11/sG+0uv9UP+0tAAhKQgAQkIAEJXJvAu4vjPAvMzi4C9dYFMZxdY/76Ra/QJr8IyPEe/1pFLy7PSUACEpCABCQgAQlsI/Cu4rg+C4yAPUKU8hhFxHFPfCOM638wsuVvAjMeu9JveW2xt21qbS0BCUhAAhKQgAQksJXAu4rj+ijDaFd3a0Bt+/on2gg2BWGO/bpjPHoeOX3aY31cIwJ867En2Fs7fpaABCQgAQlIQAISOIfAu4rjKi6PEol5bAMRnPdVwPIn4Ni9HT2LfM40aEUCEpCABCQgAQlI4AoE3lUcZ9cWsXqEOK6PbdRfslvz1yuuMDn6IAEJSEACEpCABCRwLoF3Fcd1B3frIw1rMCG4Y6OOz7PNOV9F85oxz27DrvZbnmne0veILyhn89KeBCQgAQlIQAISeAuBy4hjHLl1qb9o1z42kTp2r9u6W/vxlvGqwI+gP+oIkyuzeAtH+0pAAhKQgAQkIIE1BN5VHNdngPf85x+zABF5EZG9/1q6Plqx9y9G0A/x+pbXEV8KZlysk4AEJCABCUhAAhIYE3hXcVz/ksStf6SPcI047gnv+mhFTzyPkb3W1F8ojK2tx1vH/eqd7yQgAQlIQAISkIAEthJ4V3FcjD//SbWtP9LnOeKe8AVCFd6jv5+cRysQtFttY8Od463pZnsJSEACEpCABCRwbQJFnx7zFyOWwq+7r1t+OS5/p3g0fv4SBgJ4VOruMu8tEpCABCQgAQlIQAKPTeDdxTG7uhGy7OCuecyAHWNE9Wi3t4pe2o1KfS6Z558tEpCABCQgAQlIQAKPTeDdxTH42QWuAhlBiwCu4pc2iF7qeEa41tUp5Hz9Rb+l54mpz3PCW3auq03fS0ACEpCABCQgAQl8DAKXEMegRNSya1xFckRrjoje0eMPiGmEbq8//UYiue4yY4e2s93mjzHtRiEBCUhAAhKQgAQk0CNwGXFcncMpftEOscyRz+wcWyQgAQlIQAISkIAEJHAkgUuK4yMDdmwJSEACEpCABCQgAQmMCCiOR2Q8LwEJSEACEpCABCTwcAQUxw835QYsAQlIQAISkIAEJDAioDgekfnA53l+e/QLih84bEOTgAQkIAEJSEACiwQUx4uIPlYD/ioI/zGK4vhjzavRSEACEpCABCRwGwKK49twvJtR8t9qr/nPVu4mKB2VgAQkIAEJSEACNyKgOL4RyHsYpv5NZ8XxPcyYPkpAAhKQgAQkcDYBxfHZxN/JXvvfdI/+M5V3ck+zEpCABCQgAQlI4BIEFMeXmIbjneA54/q/BzLxFglIQAISkIAEJCCBfxNQHP+bx4f8xCMU/JfYHPNfcSuOP+RUG5QEJCABCUhAAm8koDh+I8Crd//x48fzjjGPVVRxzF+tsEhAAhKQgAQkIAEJ/JuA4vjfPD7UpzxnjECmsHucneMPFajBSEACEpCABCQggRsRUBzfCOQVh+E54/pXKSKOefbYIgEJSEACEpCABCTwKwHF8a9MPsQZRDHiuJbff//9eecYkWyRgAQkIAEJSEACEviVgOL4VyZ3fybPGfPfRNeSRyoUx5WK7yUgAQlIQAISkMArAcXxK4sP8Y5ftOOxid7fMY445n/Js0hAAhKQgAQkIAEJ/EpAcfwrk7s+w64wj1MwsfXl/45319Oq8xKQgAQkIAEJnERAcXwS6DPM1D/Vll3i3rH+kt4ZfmlDAhKQgAQkIAEJ3AsBxfG9zNSCn0wkj1O0zxmnW905zp92S51HCUhAAhKQgAQkIIH/EVAcf4BMmD1nnPDqrjKTbpGABCQgAQlIQAIS+JWA4vhXJnd3hueMl37JTnF8d9OqwxKQgAQkIAEJvAMBxfE7QL+lSURv+/eMe+MjoPP8ca/ecxKQgAQkIAEJSEACT89/0OBFM3361/+mJpzrE8hzxGueIUZAK46vP6d6KAEJSEACEpDA+xJw5/h9+e+2HmGM4F0Sx7Ut7X3meDd2O0pAAhKQgAQk8MEJKI7vbIIRunUXGLHLX6n48uXLL5HwyEV9nCI7xxw5T71FAhKQgAQkIAEJSOCVgOL4lYXvJCABCUhAAhKQgAQenIDi+METwPAlIAEJSEACEpCABF4JKI5fWfhOAhKQgAQkIAEJSODBCSiOHzwBDF8CEpCABCQgAQlI4JWA4viVhe8kIAEJSEACEpCABB6cgOL4wRPA8CUgAQlIQAISkIAEXgkojl9Z+E4CEpCABCQgAQlI4MEJKI4fPAEMXwISkIAEJCABCUjglYDi+JWF7yQgAQlIQAISkIAEHpyA4vjBE8DwJSABCUhAAhKQgAReCSiOX1n4TgISkIAEJCABCUjgwQkojh88AQxfAhKQgAQkIAEJSOCVgOL4lYXvJCABCUhAAhKQgAQenIDi+METwPAlIAEJSEACEpCABF4JKI5fWfhOAhKQgAQkIAEJSODBCSiOHzwBDF8CEpCABCQgAQlI4JWA4viVhe8kIAEJSEACEpCABB6cgOL4wRPA8CUgAQlIQAISkIAEXgkojl9Z+E4CEpCABCQgAQlI4MEJKI4fPAEMXwISkIAEJCABCUjglYDi+JWF7yQgAQlIQAISkIAEHpyA4vjBE8DwJSABCUhAAhKQgAReCSiOX1nc/bu///776du3b0+fP3+++1gMQAISkIAEJCABCbwHgXcXxz9+/Hj6+vXr0++///706dOn59dvv/329OXLl6fv378//fz585lLFXwIwD/++OOf9umXI3W058XYjHPVgo/xe8+R/kwivGr/q8arXxKQgAQkIAEJSODKBN5NHCNYI4gRsDiSwg5o6mkTAcn5Worzz8IQ0cyL83/++ec/4yMaGeevv/6q3S/xntj4MoC/+F1fEbuI/Xqe98RJPf3hQmzhxHnLfRJoc/xKUVzZtytx0hcJSEACErhvAuisFw326VlwnREOYhijiL4lwYpofHHwWSC2/qWOY69ERFKPCM1OdK/te5xD0DIJvZLYaNMrsKl1NdZee89dn0Cdz6t5e2XfrsZKfyQgAQlI4H4JnC6OI+AQqmt3otKnJyLr4xWjacgONWKTsa5UZv4siWPiqIIlnOhnuT8CXA9Xnbsr+3Z/M63HEpCABCRwZQKnimOeL47gm4nCHjAEbk8cIw4zZq8f56poZJwrFZiMSuKqArhtW5nUONt2fr4+gfxE5YqeXtm3K/LSJwlIQAISuF8Cp4rjuoO7dtc4aHkGmccI2rJGHFdRftWduTYuPq8Rx7Wf4rjSuK/3PF6U+b6a51f27Wqs9EcCEpCABO6fwGniuApUHoXYWnhWuO6Spv8acVyfW77aznHi6B0jlmY7x7VfTxzDjL9kwRjUr3nGuz6qwvu3/rWP+MCjNLzwhTmZPf+Nn+xW5gtV/J99qcJO3eFk/IxB7Clr26U9vu5hsjZuYoVL5jt2txy3xERbeMCUuMKW823Z4ttWTsxP/soKfS0SkIAEJCCBKxBgPXxZk499HjeiBWNVqLwVAgv7kqiobW5p+62+L/VPXPi/phBb+tC+fs750bPeCJUIJb7I8Ln238uNecdmHh9B3GY+EL7YaUvscqR+yReSuIpXYqVPe+4///nPL+d67fIFInX4u5XJ2rgZtwrjzFOOPcFaea2NPTHlOuRIfLzCG5v1i9Ba3/ZyKjefZwY1Lt9LQAISkIAE3otAWZ9uK1rbgKpQ2Su02jH5HKHFwt4rEQPU4wML+b2UCKQ94pi4eWWnFdGT8TjfFnbwemK1CqclodaOmb5tP4TayJf06fmIWEu/mkMReTUX6I+dCDxigwVtl9olR/YySQx74ia+LWVt7LSr/FobYdLLtcQz8m0vJ3zKFwPGsEhAAhKQgASuQOA0cRxRw7HuTr0VQhb1unAjgrBR61jgI3reavOs/mHWEyw9H6qI6TFGMDJmO16SoNcHlvGjJ1h7fnAu/VpbaR9RhGhNSR/s8b5XEFHxp21T45/9mH5Nu71MEsOWuImz+tSLe+lc7T+KvbZpx0sd89KW1MG9LXs5ZRx4MYZFAhKQgAQkcBUCWds+sfCxCB5VImg43nIxRITUsdv3xNSKqKNivPW4iWUktFp7MxFD29S3AiiiOT96b8eNH22/tl39HFscewVb1FWbiLrY6vXhXN39bMeOTcaYlTXt9jLJ2K1v8acXN3Xpt+R7xmmPa/pjm1zq+TbrP6vby6n1388SkIAEJCCBqxD4UOI4UOtivlZYpu+VjhGKa2OocffiGNXnkRfsLL164/bOZUxsri3YJuZZvOz+h0vddcbGKL7W/pp28X+JR+tr+m2Je4vvbSz5vCamtK1HbgDsxmcnvyfOZ2Mn3q2cqg++l4AEJCABCVyJwGnimMUzomarcJgBq+PWdvX8W+3F7z3Ht9iOPWJZU2Yihv6j+ti55Q57xtwSf/osxZt2HGsZxVfbzDjUdrGxlUn6bYl7rU/Vv/b92tjTj0doELbs/GY3O76nTY6zsdNnK6eM7VECEpCABCRwNQKnieO6wN7yl2+qCK5w6y/7sIAT6L2VCI8lsZi4KuOcq8dRfezcklHGxObakj5L8Wa3kva1jOKrbXi/pl182cok/bbEvdanNo76eU1MtCcedty5Busz+LP+s7rEu5VT9d33EpCABCQggSsRYE17Wd+OfeaY3akspPwIty7MbwEyEseMeZTNt/i7pW94LYnFjDkTMbQZ1cfO6Be5Mv6WY8Zc8p0dx+TC7Ef71XbEcTv2KL7al/dr2sX/rUzSr/Wt9aHGvdandoz6eU1MeV4bfm2Z9Z/VJd6tnFr7fpaABCQgAQlchcBp4piAEQxZTHt/GWEGBQHFIt2WOmZbx+f6S15LgqXX/z3PhdVav2cihjhG9RGb7ChGqPbi5kfwa0udF76kjAo+5Ufy9S9RIORGJVxaQTaKrx1nTbu9TPbEjX9rfGrjqJ/X9E9MtG3LrP+sLmPeMnda3/wsAQlIQAISOJPAqeIYEZTdwa27xwiniKgKqIqRer6+r6KrFVS13dXeRwQeLY7zFwewNxLACFyE0NpSBdXIf8asdSUZ/3W+2qw/DWjzodqsfdr3a9rtZVLHrrFVH9q4qav9atu179f0Tz7Rti2z/rO6vZxa+36WgAQkIAEJXIVA0SPHPlaRgBEGEcjsNuHArGTHmH69kgWf46gwBrZog+3RWKP+73Ee4ZfYRiKr9WsmYmg7qq+2sMmXiTCCHbv8cJvt5ra+0C/zzJiIqIhZjvhCfTv/VWy1dTUG+rdlFN+ednuZ7I27+p644b72Jyy1fxtvPief2muAvnWuiIEvkcmBOnbr215O+MT4fOHitSW3Eo9HCUhAAhKQwBEEWOte1sxzxDFBsChGrEY4sTiyKKfgGIsyC2cW6dTlWJx/DmK2wDJGxAHHq+8g41/1N8IysfeOVcRUlmlb61umiLBqr32PaN1asFFFVzvmSPjxZYC29E0b4on/HHul/oRglgtr2+1lsifuNpdhsGWnfk1MtQ18sQFjeLaxVsZLvrV923ke5U69B9BnTY735t1zEpCABCQggVsSKOveeeKYACJ22gUyCyvCIMKoDZiFOwt72nNkoed8Xdhr31Zwpn0rFGufs98nthrXUmxMYt1xpT38GAvBgVBshVFir/HRjvOt7RHP2nf0HrbMSR2TOZ+JV8bCZusL4xBrWxiLeKsN3tO+zu3adnX8vUz2xF1jxvfeF5zqG++3xlRtwCw8scVnmPfmu/br+baHU3vt9+y28fpZAhKQgAQkcDSBdxPHbWA4wmuNIGj7+vl2BOCP0EGoMB+32s1DLN7r/L6FyT3HvTWrtnKiffKM42iHeasftpeABCQgAQm8hQB65WXD7dyd47c4bV8JSOBjEeAnG6OfFH2sSI1GAhKQgASuTkBxfPUZ0j8JfHAC3IR4xIKdZIsEJCABCUjgvQkojt97BrQvgQcmkGezb/X4zgOjNHQJSEACErgRAcXxjUA6jAQksI0Azxj7S3jbmNlaAhKQgASOJ6A4Pp6xFiQgAQlIQAISkIAE7oSA4vhOJko3JSABCUhAAhKQgASOJ6A4Pp6xFiQgAQlIQAISkIAE7oSA4vhOJko3JSABCUhAAhKQgASOJ6A4Pp6xFiQgAQlIQAISkIAE7oSA4vhOJko3JSABCUhAAhKQgASOJ6A4Pp6xFiQgAQlIQAISkIAE7oSA4vhOJko3JSABCUhAAhKQgASOJ6A4Pp6xFiQgAQlIQAISkIAE7oSA4vhOJko3JSABCUhAAhKQgASOJ6A4Pp6xFiQgAQlIQAISkIAE7oSA4vhOJko3JSABCUhAAhKQgASOJ6A4Pp6xFiQgAQlIQAISkIAE7oSA4vhOJko3JSABCUhAAhKQgASOJ6A4Pp6xFiQgAQlIQAISkIAE7oSA4vhOJko3JSABCUhAAhKQgASOJ6A4Pp7x0MLff//99O3bt6fPnz8P21ixn0D4/v7778+c94903z3/+uuvpy9fvjz99ttvT58+fXr6448/nr5//37fQR3ovXlzINyDh/758+fz/ZQcZ3G7ciHPvn79+nxdXtnPj+6b1/tHn+F98b27OP7x48fzDQIBw8LNi0WcxZwFnJsd5SoCEj/i554j/YFOfLX/vumzV48AN7uWL19CHrFwDXE9cZ1lMU7ePSqTUR5wr0GshA9HGY1oXfN8WdCe5/KKXuJju45c0c+P7pPX+0ef4bfFV+4l5y4ELNoRxCxIOJLCIp562uRGwvn3LviC2Pjzzz+ffcbvvLKoZtci5zmyyFJPf+JgNy9xcd5yewJwz5w8osghz5KrocuCQH6GS857fCXAF4nwecS8eSVxf+9qfjOPVyz4yMv7/7mzM9IPXu/nzsO9WCv64TxxnN0ZFmlE4qwgQrNQ4ex7F25oIz/iJ216hVhqXQQz/SzHEMicPKLIyXXW5ivXHF86qbf0CTxy3vSJePbWBLz/35rofLy69rYtvd5bIn4+XRznhsCO1uibXDst6dMu8m27Mz7PRFYusNlFWOsSF/0sxxDInMzm7RjL7zsqO1OJ/QrXzfvS2G497B4tb7aTssdeAt7/95Lb3g+tMVtnvd63M/3oPU4Vx2/58QU7XVdY5Gc/qssFVgVwm0A1Bm+OLZ3bf86cPJrIKRf2Ja6b28/ssSM+at4cS9XRKwHv/5XGse/zU7SRFa/3EZnHPV/W0OMfq8gzxiTi2l3jTA3PIPNYwpVLLrCZOK7+e3OsNI55nzlRHB/D96OO+qh581Hn84pxef8/Z1Z4jCzX88hi6h9tnRjx8PzT86bSS14cK47rrjHPGm8t/Ji47rpu7X9G+1xgbxHHxMhfWmAMLtQ1z2TXX7DiPV8k9hQYt89F8yWGb90jf/CRuvqqtvGl1vG+LT27xJ2xsd/OPZ/jF8fRjn7mJDc92oUXj/bQd+mLGkzSh/FmjOMX7SjEhg2+GMaHNv7ZZzikP2PCj3GWfMaPxN6ym9lLXfyGEb4TM3bJzVEc2KEOH2kfX0f2j5z35E+uBXzIHGYusD8qYTeKNf225Eb6jI74yFyvzZ09trHBHDKvvJgjxpmx2JuDxJmYsINdXtib5W8vL5buQ2GavpnjnL/VcQ9zfMp1AXMYkJecS57t9e+s+cw8LuXm2naJdw/PLTGTuzBf4pz6er2Ts70XY9bStsk9hzbMPfPN+MRquR8C5NlLXhwrjnPTx1hNwPtBtexpLjAuljWlvTnWzxmLC7u3kHDRRYAg+HIDTr8tjOsNLf3xn4u83lio6/lD/wgP2rSFmwmLVR2bNll0cz59sVvP5T12KKP6elOKD+kLj5qDOc+RmNobHv23MG4ZMG76V1s9O/G1PSYfODLWmjkm96q99v2a3CTfYFJziHO5ydfz8TlsOfZ8rXNz1Lxjt11s8XWUL+QsfXol3Hqx0p5+t7z+6vWD7YwfPzgmd1LHXG659pkb5jVfJJnT5AvXZ48F8WObI/W8ci7ne/w4F+517rFdY8p75u0t9yFiSQ5mzNHcpX7pSL6n7GVOTDBnfvExXNr5jp0txzPmc+197T//+c+/1gDYhlnlfGYOk2uwr/bre2JLyfmaM/ha1y2uFWJqS42z5jrtsJGx8cVyPwTK3B0rWuvNoCbg/aBa9jQXwRoBwmh1keFGx6veQDMe59vCjbu3oNUx68Xf9q+fsUnbOkdc5IwVf0qiPPtZ+/O+2m3rRvXcfBi33oCwWzlQnxsc7ajHz9xkOcbv3s0nDOkbMUFM3DjTjzbUt2ULY26QvCI2GJM48C83aWz0bq6t3cqrN/dVYMC9V+p88X5LwSb+twXfOd/arP60fcKjXhNHzTv+MbcILfzklTnERzjUul4s8T/921hTn3Hb+azXwVrujMErrLA9y509tuNX6xNzkVjbXEuf9jwM6pz3GGGHcbnG2pL84nqlHa/MHe/rdbn1PlTnt+cXvuAX/vdK+uMbbFL2MCcXGYdXmyfUhTvHrSVzA69abj2fa3OTeK6Yw7AJqxnnzEWbM3WeetdB2JOzbV/qYML8Mz45ZLkfAlxbL3nx66J3yzCSfBy54X3EkhirEJjFWS/aHpMsIu14mbRen7UXc8+vJX+yeLf+MFbtuzR2W1/79mKq9bxvC33Cvl2Ecr53Y6It59Om2t7LuPrKQrun1Dnkfa9Uv3tt4j+x8X5LyTxXcZD+5GQ7BzXmtMsxdSwQbUkdPlb2aVfred+WNfPOotXmRBUQPb+wk5zo2Q3bns917maLaRsLn2u8o9zZYzs+9a5b7Gbxrl8Q0wcOvfyi3ywHUzfjN8rNyqHHOPk5imc2d+HMsS1hS/9qN+frufStnNr5jp+9fvRPPfa2lNgcxX/EfNY5GeUmMaxpt4fnnpjDtPqUc+1xljO1f+9aiG/E1SvUjws3WL0AAByPSURBVOp67T13DQLJ008kB0lwVEnycfyoiZIYRzetlm296No6Pqe+XcAjmnvihX7xo+3Xs1HPxR79e2VWP6tjrFn9rI6+2c0Z5U5J4l9yKyyw0Su5sdGuzttexkux9Hxoz9V427p8XrtzN2KWcXrHLNoIyzbH+Nxev5yjT4/xjMesDr8qh9Ym9W+Z98wvfHq7iLO8Sd+WTVim762vP8bfYzuce/PDmMRBXY2nsk9c7XGWg2Ewsjmrj7+06ZWl+tnYjNcTq3WHD8a17GFec7P9cpaxl+JIu/aYfhx75Yj5jM3RnMSPNe328My4W2Le4tMsZ2a5gQ184l5p+VgEyjWsOH7r1OYCqyJrNmYu+NENZ1TPhUgf7Cy9ZvbbupG9tJvVz+roP6uf1dG3JOkvwmypPnOCjVEJzzoPObfEt53rpVhGPtTzjJn5refre27Yia3u+KXNErO06x1rDNhgMevtmPT65hz22T3MLlZlmzbVTs7V41IMs/qwGc177dtrM+u/NzdqbL33Szzos8d2+vTi7PnBubfm4Iwf48/qlzgs1c/GHsUbRhxbMZu6LfeCCMDZF6SlOJZ8PXM+1/q6pt0enumzJebwW+PTUs5kDOazzQ/O9b5wxb7H+yRQ1ohjxXFutiThngTfgjeJvuf4Ft9ij1jXlFxw9OuVUX3sbBUsPRv13Mhe2szqZ3X0n9XP6uhbkvQQcZwfAdd52Mt4KZawnB1jeymP0q76nXGXmKXd6JjFvdogtnZhaPuzSLCQ0T87WBmjbbvEaimGWX1sYqNX6peLXptZ/9Sdff0Rxx7b6dOLs8em2tmbg3xhwy7XVlsq+7pbnXZLebFUvzXejIfI6fmT8bbMd+Kf8Ytdxt9S4g/915b0mfnDWGnX+rTW1zXtYmMLz/TZEnPYbPFpND45S37gR23DT096gjm2Pd4vgbK+/HvSbx1STdDeDfPW9t5jvFzASzeg+FaZ5Fw9jupjh8m7ZRnZi41Z/ayO/rP6WR19S5IeIo579vcy7o0VfmuPsb2UR9lNoX1blpi17XufGQMf4g9HbPYEMm0RBFzbtX7GY1aHP0sxzOrjMzZGZdZmTR32b1mWeGArfm2xnT4zFm0c6bM3B/mSlDFawZk6cqlXljgs1cfumnjjC3143ysZbw/zGb+lOHq+cC7+rIkvY6TPzB/aju4pa31d0y6+7OG5JebEvsWn2fgZp4ph7ndsBFg+HgHy8yVXjxXH3CBzUdTk+khIE9/SDSgx52KjX6+M6mOH5wJvWUb2YmNWP6uj/6x+VkffkqSHiOPsktZ528t4KZawnB2zQzHKi/TNQlb9Tt0Ss7Rbc8zuSJi09vLsaU/szHjM6vBrKYZZfXzFxqikDf63JXW9/qk7+/rDxz2206edtzZmdvLyxeYWOZjrirzIuMwZY/NFarRzuJQXS/WJtzd3NWbWpMQ5EzgZb8t8p0/vmogPS3GkXXvM2GfO51pf17SL/3t4bok53Lb4RNtRIV/jO+3yuf3yN+rv+fsiUNaXY8UxWEjsJNfoW/oIHzfXWeKO+p15PrEtXcDxaemiHdVHFLHAZNHJmPU4u+HXdnk/srem/si+JUkPEcfhSQwpObeV8RKHjD87shuRXOoJt/RNm94is8QsY/SOvfwlz+r1W/MurCq/jDvjMauj/1IMs/qw6fnE2PXLek+kzfon3q25ESaj4xIP+u2xXedttpBjPyxukYPJGcbFh7zI15o/LY8lDkv1s7mLLeyHJceeP2GRdlvmO6IbXzJObOe4FEfatcf3mM+1vq5pt4fnnpjDbY1Pa3KG8fKFj1xgXGKxfEwCZX05Xhxzk8hNg2PvhjTCzM16dJMZ9Tn7fC4wLuQ1ZemiHdXnAsXeSACzCG69cEf2EsusflZH/1n9rI6+JUlvLo7JKTi2+biX8VIsYTk71nhHubQk7uoYvN9SuPH3SljBq167yXtib8uMx6yOcZZimNXPfGJsBBptRnxn/ffmRsum/bzEg/Z7bNdxR/GST7Wusq3nq8+zHIz43LoJwvjV32ov75fqZ3OXMSL+ue6Jo1ewQ9nDPOPjS8ZpbSzF0bbP59pvNje17q3zWW3Gj95xTbs9POu4Na7qQ5vDqat9c649rskZ+tR7IH325Hdr28/XJFCumfFFfEvXSeAIZBZhHJgVbrIk9+gGNut7Zl29aEYXb+vP0kU7qq+2uEC5EYcPvLhgYTzbdWx94fPIXtrO6mtdfEm/LJS5AeV8jrVvztVjSdJuvszqYxMbvZJFrM3DvYyXYun50DtXF5DWN9rHziiuPOpA/L3+PZs5Rx/st4V5pK4Vz2HcCg18y7VOG/ojSpMfiYG6XpnNK+1n9fGpFwd9iYE28aXaT5zU9/juzY1qo/d+iQd99tgmnjoPMGGcjJd5avPkLTmYvoyN/S1licOsfmnu8CNfjJjfmbjJ5sIe5vX6G+VZjWMLo/eYz+rrbC7XtNvDc2/M+Fp9So4z75n7NTlTY05uc00tFe4v5BGvrevx0tjWH0ugrC/9heAI8yRMFiduHCQbiVNvEDhGUpNUvQXsCL/eMma94RJTFp/ZmPWirbGnT61vGXBhY2f0gunWkot+5P/Mn3rD48tB4sFPPte+EUhpU+t63Crb3NxqbJUFbWuJ+CUm4sv4HPGLG9zoplXH7XHuMa72RuNW/2bv8Q+7+IgvFJiFF8dRSRv6z9r1+ifWth/x4kubizVm+oYr/VuGdUzex1bmpfrzlnnPuByrTfglz8O02uQ985b+tW9t18aV9jn2cqP2772vHGe5s8c2c8bcxb/2OGKxNwdrLK0tPnP/p00vzswP7Xp5UfOmzcWluSsLXvcLYOYluZfPe5jXOHrXcJ0PYsJGL974UI/vOZ+9OYtvdd5n7fbw3BtznXNyipzOFx/8XsqZxJYjc8Q4o3tD2nGsOmeUz7W9769DoOTNusm+letZ5NvkIYF4kbyjG/atfLjFOFwgWUDiO0dufJzvXUBArzfOxEtbLjwu1nqTqeNVn2lXb7Cx37NZ+7Xv8Yc+6b/XnzamjJO55jP+0o65/e9//zvlEL9qjLwPJ26WLSdswL0umj3e8WNpMVrLmHbkLPbrq/WlZb/0mVhr/ImPmHqF9r185NxaX2DKOByxTVy8mLcRr+onbeMfc8/nzBs+9+aDNozB+NTX8Yg5/alfM++ZA8bBb/pzr+FIXPGvZUjb9p6Eb7170drcaG20n/fkzh7bcGtzg1gZa1bauVjKQcZinuCWeZgdGZ+Sea9ta17gZ3u9M5/ERFkzd7Sv47fvqU8bjrXsYU5srQ0+42ut4/MoJ6sP9f0Z80nMvXls7yVr21X/9/C8Rcz4zn2JsiZnqs+8py+5MboX1vbtvSS5Xtv4/poEuB5frt1zxXGLA0d4JWnbej/3CcCLmwwXHfzWXLD9kW5zFj+4+fDixpP5jKi5jZV9o+ALN9et5WqMt/r/iO0jSI5ejN4zN/ba5ho4+l7L9V5FSGzmPs+RLxwRu+9931p7jexhTqzkYV58pnBkh/qtsYctvt1b2cOTGN8zZuaM3F5TiI95Tw6wJlrugwBzdglxfB+49FICErgHAmeJ43tgcbaPCAJ2G/nSvqbQNoJxTXvbSOA9CbAb3PtJ0pJPfBHc029pXOuPIaA4Poaro0pAAu9IQHH8fvDZKYP/moKQ5kfUHC0SuDoBxG37uM0anxFaiGrzfA2ta7RRHF9jHvRCAhK4IQHF8Q1hbhiKxT/s1+yS8WNmf9S8AbBNTyPA4y553poczZc+HqvYUngEhMcw3vr4zBabtn07AcXx2xk6ggQkcCECLEIRaCxolnMJsLNW+beiAAHNIxcIBsSHu2nnzo/W1hEgR5PHOW79IhdRvc6ira5EQHF8pdnQFwlI4M0EssPDgsZzfoqvNyPdNEB2yiIoRke/uGzCauOTCXDfyC+M8oXPfD15At7ZnOL4nSdA8xKQwG0IRJSxI9m+XNhuw3jLKOy8sXPWm4t2N3nLuLaVgAQkcDQBxfHRhB1fAhKQgAQkIAEJSOBuCCiO72aqdFQCEpCABCQgAQlI4GgCiuOjCTu+BCQgAQlIQAISkMDdEFAc381U6agEJCABCUhAAhKQwNEEFMdHE3Z8CUhAAhKQgAQkIIG7IaA4vpup0lEJSEACEpCABCQggaMJKI6PJuz4EpCABCQgAQlIQAJ3Q0BxfDdTpaMSkIAEJCABCUhAAkcTUBwfTdjxJSABCUhAAhKQgATuhoDi+G6mSkclIAEJSEACEpCABI4moDg+mrDjS0ACEpCABCQgAQncDQHF8d1MlY5KQAISkIAEJCABCRxNQHF8NGHHl4AEJCABCUhAAhK4GwKK47uZKh2VgAQkIAEJSEACEjiagOL4aMKOLwEJSEACEpCABCRwNwQuJY7//PPPuwF3C0f//vvvp2/fvj19/vz5FsM5RkMgfH///fdnzk31w3z866+/nr58+fL022+/PX369Onpjz/+ePr+/fsh8S8xX6o/xKkPMqjsPshEGoYEJHB5ApcRx3GEBeDKBSGLwNj7oj+xIlbqGFeO+d58I4davnwJecSCCEYU//jx4wkuX79+/Sfvbsnk58+f/xqb3K7jL9U/4tysjVl2a0nZTgISkMBtCESTfmoXs9sMv36UiJm6oK7vfV5LxC1ig11u4NVXxC47c/U874mLevojUtjNq0L7vAgexxLcMydXz6sjZoU8S65mfIQW+RkuOX+rIyI8Y/eYL9Xfyo+POI7sPuKsGpMEJHBFAkU//Hun50xnWcSzoLKYs4BftWTnt+dfYqBNryCoa10EM/0sxxDInPSE2jEWrzNqdom5yGvhixmPmlB/RFlivlR/hE8fZUzZfZSZNA4JSODKBC4hjqtI5OZ/1POQt5iImcjKwlUFcGuz1tW423Z+vg2BzMls3m5j6Vqj8AUzsbfi+GhPY3fEfKn+aP/ueXzZ3fPs6bsEJHAvBC4hjtktrkKRH/tetfCjzVHJwlUFcNu2CpUac9vOz7chkDkZCbXbWLneKOXCfn7E50wPl5gv1Z/p673Zkt29zZj+SkAC90igrKHv81hFfmGIna48d8wCUEXkvYDNwjUTxzUWxXGlccz7zIni+Bi+vVGXmC/V98b03P8IyM5MkIAEJHA8gXcXx+wS59nH+gsnOXc8gttZyML1FnHMhPAlgTEQdDwfOis8x1x/wYr3ex9L4QtK+1x0/sLByB98pK6+qr/4Uut435aeXeLO2ORC+2WJz5xnPI6jHf3MScQx7cKLn1jQlxhnZSvj+IZtCvFhZ8+flIND+jIe8RLLks/4kNhbdrNY2zr6Zh7gFvuzMWM3zNsxl+rb9vVzWDJ38MQn7HDNjOxtjeHIfExe5xrFt+Rj8gP7o7KG3dZ8xV42JuhrkYAEJPDoBLg3v9xvz985ZqHAeF3oWSCyAMwWiStOXPzuCcCevyzm6UN9/ZzziIDKJ+PAJmIFwcfn2n8kFNK/HkkCBFhscqRkV7+e7/lTF/j0reMzz3VeUxfhV8eP3Xou77Ezq4/gyPgc0xcebYypIyZ8actWxi0Hxs8YscWxZ6u1zefMJ0fGWTPH5F611b5fm5vYDy+OPfs93vSLzVEOLtX3WHCO64C5quNyLsKuns8YW2I4Kh9h1wpWfIVfWNQj1zV9eiXterHSZ889gbzNuPC1SEACEnh0AuW+eL44ZuFqF2sWkdyo720XI363MY2SjAUufWDBK0K4LpycbwuCAMHZLqJ1zIjJtm/7GZutsMM+Y8WfkijPfrZjVLttHZ979YgRxq3CGbuVA/Us2HCiHfUIgAhMjnymvrewhy99mRe+SBBT3UHO2K3fWxkzF7ywE7vEgo/Yw7/enLV2K6/e3DNWxodrr9T54v3WUm20fRPfKM+XfFuqb+3lMyzo2xaYc75lsTWGo/IR/8i5em9LbuEj81PrerEk5hm7jIm9Wuq118sF2ucaYwyLBCQggUcnUNbQXxeXI+FkQUPs1JLzLAIIiXsqWbhGoqGNpS5aLQfaRgy042XSen1YhONHT1i1PtTPS/7MRFHtW8fM+1l9revFVOt53xb6JOZWGOR8b9GnLefTptp+C+Pq754veHUOed8r1e9em/hPbLzfWmoMbd/U9b6M0DY8e3O1pr61l8/Jv3wxynmO5HprL37iT1tS14shdfSrOZExaj3v27ImH3u7w8QVdj2/sJP61m7mu+dvzafRPYE2e/Kkjd3PEpCABD4CgdxTT/9PQLi5j8RvRCELATsr91KycLViduR/XWR7bVLfLpTh0xMJjBM/2n49G/Vc7NG/V2b1szrGmtXP6uhbd9V6C3hJ4l8W+LDARq9U4VDn7S2Ml+Lp+VHP1Xjr+fq+7or2YpsxqeOM3pNb8OiNvRTfEvOl+pFPEcf1Jwdpi79tbuyNYSm+Oj+tTfyZsV+KPXlHu969b9Q//W59TwhfjxKQgAQeiUC5j5+7c4ww7i28wC9OPe/s3cuEZOGqImvm+9IiPKrPYwTYWXrN7Ld1I3tpN6uf1dF/Vj+ro2/NB963ZVafOcHGqIQnbVNybolvb66X4omN0ZEx8aU3dvos/YRlxiRjbD0yJjvWfOkK194YqRsxX6rvjcm5ypUxEIS9XfNRf86viaHa6Y21xHZWvxR77dvjN+r/lnztxeg5CUhAAo9MoNyLzxPHddcrN/vZcesCOBtrqa63IK1NkIw9EzV1rKVFeFQfO1u5VNu99yN7aTurn9XRf1Y/q6NvSdLn9/Enx1l9WGFjVOojCmmTfnsYL8UTG6NjbC/lUdpxbMuMSdt26TM/qkd8IUbZmVyKL36NmC/Vz/zJDmnG4Iid9nGadowtMSzFt8R2Vh+/R2zql55em1H/nN+Try0rP0tAAhJ4dALlPn6eOGbRZ5Gblfqjy94iMev7XnVZoJZETfxbWoRH9bHD5N2yjOzFxqx+Vkf/Wf2sjr4lSQ8Rxz37b2HcGy8M1xxjeymPsltI+7YsMWvb9z4zBj/h4ctDFZ9L8cV/2vXKUn2vTz2HX7DJOBxhUX1M+z0xLMW3xHZWH59HbPB71mZUl/PYtkhAAhKQwNsIlPv4OeKYnQ1u5KNn4xJO3UHZ+uxsxjj7mAVqSdTEr6VFeFQfO3yBuGUZ2YuNWf2sjv6z+lkdfUuSHiKOsxtZ5+0tjJfiCc/RcemxhfSLOK5+p26JWdqNjvnpDjbashRf2NGuV5bqe3165/Cxsmo57I1hKb4ltrP6NbGnDf63JXUt25y/9T2hte9nCUhAAo9AoNzHzxHHCJHegtuDHdHCjb/3W9i9Pu95LgtUu0iPfFpahEf1EUXs6vV2y2JvaXc+7XIc2VtTf2TfkqSHiOPwJIaUnNvDeIlFbIyO9TGPnkBKv+RbTxAtMcsYo2Pir0zSdim++NXryxhL9bHTHnvXFfnP+YxZr4e9MSzFt8R2Vh8/R2zYNEib3iMSqWv7J9Y9+dpy9rMEJCCBRydQ7uPHi2MWLnZ61grdulAgGK5esnD1FvGe70uL8Ki+fmkYCWDYsWBuKSN7GWNWP6uj/6x+VkffkqQ3F8f5SQZ5WYXVWxgvxROeo2ONd5RL9droiag6Bu+3luQysbRlKb5ZX8Zaqm/t5TPCr1cyh4xb53BmZxbDrA77S2xn9TOfGDuPk43mfdT/LfnaY+o5CUhAAo9MoNzHjxfHWXS2AM9iwLEnAraMdWTbukCPFrbWfngQW6+M6qst+vLFAbFEQRzw5QOxN9t13GIvbUf+UF/r4kv64VN2tnqx1r7pU48lSW8ujrNLi41a3sJ4KZ5qZ/S+ip3WN/rEBsdeySMF8O717/Wp5+jHizyq84k9zqWeuUXQpQ2fU9fzbam++tC+Z9zel8GM2Yrn+LE1hrClf6/cIh97cWCLGLAbntV+4qS+ZfuWfMUW1yevrfeM6p/vJSABCXwUAuU+/+sN95ZBxhALFTf5NYV2dSHm5r2275rxb9kmOz5ZkFmslkpdhHtx1fp2sUQAx1bvOFp8Zz5VQdbzf+ZPXZz5cpB48JPPtW/EVNrUup7dyrYn9CoL2tYS8Qsj4sv4HPGL/BoJgjruFsbV5mjs6uPoPf5hFx/xhQKz8OI4KmlD/1m7Uf8aA2OEFWO1XOr4VZTX87GzVJ92vWPmoB2XeYVRe43sjYHxYyv5Uv15Sz5mXI41DuY111/mutrk/RK7dl6qLd4zfq9EkKd9L+ZeP89JQAIS+KgEolkP/U9Assjn5stCxrl2MauQWTjamzb907e2fc/3+NnGV/2sC2D8BHoWwjBB+NOWhYlFsF3Ye3HTjvMZI8eezdjuHfGHPunPcY8/bUwZpwo6/KUdC/l///vfKYf4VWPkfTiRPy0nbLa51eMdP5aEwBbGtIVb5djzpzcHo3PEWuPPeMTUK7Tv5SPnWi69/vVctU1cscl88jlzkT7Ma3vN0i5ib6k+44yOzDU+ccQ2Y/Ni3NE8bomhlyeMzxiMT30dj7kIA+rX5GNyg3Hwm/4w40hcYdwyWMtuS77GRjtn+GaRgAQk8MgEuBe/3K//vZPxyFDuKXaECgsiCxqTORIJZ8WEHxFiLOj4R4l4OMuPnh18mX0h6/Xh3NUYj/z0/PUJVHF8lLdb85X2uX9w5Lq1SEACEnhkAorjR559Y5eABE4lcIY4fktA7F5np/8t49hXAhKQwD0TUBzf8+zpuwQkcFcEriyOWQx4xIKdZIsEJCCBRyagOH7k2Td2CUjgVAJXFcc8bsTjUO/9WNapk6ExCUhAAgMCiuMBGE9LQAISuCUBhOcVxTHPGPOssUUCEpCABP5HQHFsJkhAAhI4gQACNOKYZ3t9fOEE6JqQgAQksIOA4ngHNLtIQAISWEsgjyzkr7jUozu2aynaTgISkMB5BBTH57HWkgQkIAEJSEACEpDAxQkoji8+QbonAQlIQAISkIAEJHAeAcXxeay1JAEJSEACEpCABCRwcQKK44tPkO5JQAISkIAEJCABCZxHQHF8HmstSUACEpCABCQgAQlcnIDi+OITpHsSkIAEJCABCUhAAucRUByfx1pLEpCABCQgAQlIQAIXJ6A4vvgE6Z4EJCABCUhAAhKQwHkEFMfnsdaSBCQgAQlIQAISkMDFCSiOLz5BuicBCUhAAhKQgAQkcB4BxfF5rLUkAQlIQAISkIAEJHBxAorji0+Q7klAAhKQgAQkIAEJnEdAcXweay1JQAISkIAEJCABCVycgOL44hOkexKQgAQkIAEJSEAC5xFQHJ/HWksSkIAEJCABCUhAAhcnoDi++ATpngQkIAEJSEACEpDAeQQUx+ex1pIEJCABCUhAAhKQwMUJKI4vPkG6JwEJSEACEpCABCRwHgHF8XmstSQBCUhAAhKQgAQkcHECiuOLT5DuSUACEpCABCQgAQmcR0BxfB5rLUlAAhKQgAQkIAEJXJyA4vjiE6R7EpCABCQgAQlIQALnEVAcn8daSxKQgAQkIAEJSEACFyegOL74BOmeBCQgAQlIQAISkMB5BBTH57HWkgQkIAEJSEACEpDAxQkoji8+QbonAQlIQAISkIAEJHAeAcXxeay1JAEJSEACEpCABCRwcQKK44tPkO5JQAISkIAEJCABCZxHQHF8HmstSUACEpCABCQgAQlcnIDi+OITpHsSkIAEJCABCUhAAucRUByfx1pLEpCABCQgAQlIQAIXJ/Avcfz58+enb9+++ZKBOWAOmAPmgDlgDpgD5sBD5sDXr1+fPn36xOv5n3zwKA9zwBwwB8wBc8AcMAfMgYfNgf8Hlb6Y4EgIrjMAAAAASUVORK5CYII=)"
      ]
    },
    {
      "cell_type": "code",
      "metadata": {
        "id": "R7zv1lp6AEog",
        "colab_type": "code",
        "colab": {}
      },
      "source": [
        "Soft_Accuracy = 7/8 * 100\n",
        "Cos_Accuracy = 7/8 * 100"
      ],
      "execution_count": 0,
      "outputs": []
    },
    {
      "cell_type": "code",
      "metadata": {
        "id": "F1mYbwayG8v4",
        "colab_type": "code",
        "colab": {
          "base_uri": "https://localhost:8080/",
          "height": 51
        },
        "outputId": "47165f42-9600-49c5-8ccc-694e188abc3d"
      },
      "source": [
        "print(\"Soft Cosine Accuracy: \", Soft_Accuracy)\n",
        "\n",
        "print(\"Cosine Accuracy: \", Cos_Accuracy)"
      ],
      "execution_count": 51,
      "outputs": [
        {
          "output_type": "stream",
          "text": [
            "Soft Cosine Accuracy:  87.5\n",
            "Cosine Accuracy:  87.5\n"
          ],
          "name": "stdout"
        }
      ]
    },
    {
      "cell_type": "code",
      "metadata": {
        "id": "7xDqGMMCHLFQ",
        "colab_type": "code",
        "colab": {}
      },
      "source": [
        "-- END ---"
      ],
      "execution_count": 0,
      "outputs": []
    }
  ]
}